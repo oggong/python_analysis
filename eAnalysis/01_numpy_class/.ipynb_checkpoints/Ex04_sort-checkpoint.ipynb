{
 "cells": [
  {
   "cell_type": "markdown",
   "metadata": {},
   "source": [
    "### 행렬의 정렬\n",
    "\n",
    "1. np.sort() : 넘파이에서 sort() 호출\n",
    "\n",
    "2. nparray.sort() : 행렬자체에서 sort() 호출\n",
    "\n",
    "\n",
    "####  두 방식 sort() 함수의 차이점\n",
    "\n",
    "\n",
    "1. np.sort() : 원 행렬을 그대로 유지한채 원 행렬의 정렬된 행렬을 반환\n",
    "\n",
    "2. nparray.sort() : 원 행렬 자체를 정렬한 형태로 변환하며 None을 반환"
   ]
  },
  {
   "cell_type": "code",
   "execution_count": 1,
   "metadata": {},
   "outputs": [
    {
     "name": "stdout",
     "output_type": "stream",
     "text": [
      "원본: [3 1 9 7]\n"
     ]
    }
   ],
   "source": [
    "import numpy as np\n",
    "\n",
    "origin = np.array([3,1,9,7])\n",
    "print('원본:', origin)"
   ]
  },
  {
   "cell_type": "code",
   "execution_count": 2,
   "metadata": {},
   "outputs": [
    {
     "name": "stdout",
     "output_type": "stream",
     "text": [
      "원본: [3 1 9 7]\n",
      "정렬된 후: [1 3 7 9]\n"
     ]
    }
   ],
   "source": [
    "# 넘파이 sort\n"
   ]
  },
  {
   "cell_type": "code",
   "execution_count": 3,
   "metadata": {},
   "outputs": [
    {
     "name": "stdout",
     "output_type": "stream",
     "text": [
      "원본: [1 3 7 9]\n",
      "정렬된 후: None\n"
     ]
    }
   ],
   "source": [
    "# 행렬의 sort\n"
   ]
  },
  {
   "cell_type": "markdown",
   "metadata": {},
   "source": [
    "### 내림차순 정렬 [::-1]"
   ]
  },
  {
   "cell_type": "code",
   "execution_count": 5,
   "metadata": {},
   "outputs": [
    {
     "name": "stdout",
     "output_type": "stream",
     "text": [
      "원본: [8 3 9 2]\n",
      "정렬된 후: [9 8 3 2]\n"
     ]
    }
   ],
   "source": []
  },
  {
   "cell_type": "code",
   "execution_count": 6,
   "metadata": {},
   "outputs": [
    {
     "ename": "TypeError",
     "evalue": "'NoneType' object is not subscriptable",
     "output_type": "error",
     "traceback": [
      "\u001b[1;31m---------------------------------------------------------------------------\u001b[0m",
      "\u001b[1;31mTypeError\u001b[0m                                 Traceback (most recent call last)",
      "\u001b[1;32m<ipython-input-6-e6bbf5104b82>\u001b[0m in \u001b[0;36m<module>\u001b[1;34m\u001b[0m\n\u001b[1;32m----> 1\u001b[1;33m \u001b[0msorted2\u001b[0m \u001b[1;33m=\u001b[0m \u001b[0morigin\u001b[0m\u001b[1;33m.\u001b[0m\u001b[0msort\u001b[0m\u001b[1;33m(\u001b[0m\u001b[1;33m)\u001b[0m\u001b[1;33m[\u001b[0m\u001b[1;33m:\u001b[0m\u001b[1;33m:\u001b[0m\u001b[1;33m-\u001b[0m\u001b[1;36m1\u001b[0m\u001b[1;33m]\u001b[0m\u001b[1;33m\u001b[0m\u001b[1;33m\u001b[0m\u001b[0m\n\u001b[0m\u001b[0;32m      2\u001b[0m \u001b[0mprint\u001b[0m\u001b[1;33m(\u001b[0m\u001b[1;34m'원본:'\u001b[0m\u001b[1;33m,\u001b[0m \u001b[0morigin\u001b[0m\u001b[1;33m)\u001b[0m\u001b[1;33m\u001b[0m\u001b[1;33m\u001b[0m\u001b[0m\n\u001b[0;32m      3\u001b[0m \u001b[0mprint\u001b[0m\u001b[1;33m(\u001b[0m\u001b[1;34m'정렬된 후:'\u001b[0m\u001b[1;33m,\u001b[0m \u001b[0msorted2\u001b[0m\u001b[1;33m)\u001b[0m\u001b[1;33m\u001b[0m\u001b[1;33m\u001b[0m\u001b[0m\n",
      "\u001b[1;31mTypeError\u001b[0m: 'NoneType' object is not subscriptable"
     ]
    }
   ],
   "source": [
    "sorted2 = origin.sort()[::-1]    # 에러 발생\n",
    "print('원본:', origin)\n",
    "print('정렬된 후:', sorted2)"
   ]
  },
  {
   "cell_type": "markdown",
   "metadata": {},
   "source": [
    "### 2차원 이상의 행렬에서\n",
    "\n",
    "- axis=0 : 행방향 -> 열단위\n",
    "- axis=1 : 열방향 -> 행단위"
   ]
  },
  {
   "cell_type": "code",
   "execution_count": 13,
   "metadata": {},
   "outputs": [
    {
     "name": "stdout",
     "output_type": "stream",
     "text": [
      "[[ 5  6  2]\n",
      " [ 9 11  3]]\n",
      "[[ 3  6  9]\n",
      " [ 2  5 11]]\n"
     ]
    }
   ],
   "source": [
    "arr = np.array([[9, 6, 3],[5, 11, 2]])\n",
    "\n",
    "row_sort = np.sort(arr, axis=0)\n",
    "print(row_sort)\n",
    "\n",
    "\n",
    "row_sort = np.sort(arr, axis=1)\n",
    "print(row_sort)\n"
   ]
  },
  {
   "cell_type": "code",
   "execution_count": 10,
   "metadata": {},
   "outputs": [],
   "source": [
    "?np.sort"
   ]
  },
  {
   "cell_type": "markdown",
   "metadata": {},
   "source": [
    "####  정렬된 행렬의 인덱스 반환 : argsort()"
   ]
  },
  {
   "cell_type": "code",
   "execution_count": 17,
   "metadata": {},
   "outputs": [
    {
     "name": "stdout",
     "output_type": "stream",
     "text": [
      "[2 3 5 8]\n",
      "정렬시 원본 행렬의 인덱스 : [2 0 3 1]\n",
      "정렬시 원본 행렬의 인덱스 : [1 3 0 2]\n"
     ]
    }
   ],
   "source": [
    "arr = np.array([3, 8, 2, 5])\n",
    "sorted = np.sort(arr)\n",
    "print(sorted)\n",
    "\n",
    "idx = np.argsort(arr)\n",
    "print('정렬시 원본 행렬의 인덱스 :', idx)  # 기본이 내림차순인거야?\n",
    "\n",
    "idx = np.argsort(arr)[::-1]\n",
    "print('정렬시 원본 행렬의 인덱스 :', idx)  # 그럼 반대로"
   ]
  },
  {
   "cell_type": "code",
   "execution_count": null,
   "metadata": {},
   "outputs": [],
   "source": [
    "# 성적과 학생명이 있는 경우 정렬 후 매칭하기 위해 \n",
    "scores = np.array([66, 99, 55, 88, 77])\n",
    "names = np.array(['홍길동','박길동','김길동','맹길동','이길동'])\n",
    "\n",
    "## 점수를 내림차순으로 정렬하고 이름을 점수에 내림차순에 맞게 출력\n"
   ]
  },
  {
   "cell_type": "code",
   "execution_count": null,
   "metadata": {},
   "outputs": [],
   "source": []
  }
 ],
 "metadata": {
  "kernelspec": {
   "display_name": "Python 3",
   "language": "python",
   "name": "python3"
  },
  "language_info": {
   "codemirror_mode": {
    "name": "ipython",
    "version": 3
   },
   "file_extension": ".py",
   "mimetype": "text/x-python",
   "name": "python",
   "nbconvert_exporter": "python",
   "pygments_lexer": "ipython3",
   "version": "3.7.3"
  }
 },
 "nbformat": 4,
 "nbformat_minor": 2
}
