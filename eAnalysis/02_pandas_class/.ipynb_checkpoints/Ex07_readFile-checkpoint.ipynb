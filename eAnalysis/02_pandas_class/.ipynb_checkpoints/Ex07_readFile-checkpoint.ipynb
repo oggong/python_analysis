{
 "cells": [
  {
   "cell_type": "markdown",
   "metadata": {},
   "source": [
    "### 다양한 포맷으로 된 파일을 DataFrame으로 로딩하는 API \n",
    "\n",
    "1.  read_excel()\n",
    "\n",
    "\n",
    "2.  read_csv()         \n",
    "    - 기본 구분자 콤마(,)\n",
    "\n",
    "\n",
    "3.  read_table() : 기본 구문자가 탭(\\t)이다\n",
    "               read_csv('파일명','\\t') 동일하다\n",
    "                   \n",
    "4.  read_fwf() : Fixed Width (고정길이) 기반의 컬럼 포맷을 읽어오는 함수\n",
    "\n",
    "\n",
    "\n",
    "\n",
    "##### [참고]  utf-8 관련 에러 발생한다면?\n",
    "    - read_csv('data/temp.csv', encoding=cp949)\n",
    "    - cp949 : 윈도우에서의 한글"
   ]
  },
  {
   "cell_type": "code",
   "execution_count": 1,
   "metadata": {
    "scrolled": false
   },
   "outputs": [],
   "source": [
    "import pandas as pd\n",
    "\n",
    "# csv 파일로 저장하기\n",
    "mysource = {\n",
    "    '시도':['서울','경기','인천','부산','대전'],\n",
    "    '구분':['특별시','도','광역시','광역시','광역시'],\n",
    "    '인구':['999만','1300만','400만','600만','300만'],\n",
    "    '면적':[600.9, 10171, 1234.5, 747.8, 459.1]\n",
    "}\n",
    "df = pd.DataFrame(mysource)\n",
    "df.to_csv('result/temp.csv')  # 한글깨지\n",
    "df.to_excel('result/temp.xlsx')\n",
    "\n"
   ]
  },
  {
   "cell_type": "code",
   "execution_count": 2,
   "metadata": {},
   "outputs": [
    {
     "data": {
      "text/html": [
       "<div>\n",
       "<style scoped>\n",
       "    .dataframe tbody tr th:only-of-type {\n",
       "        vertical-align: middle;\n",
       "    }\n",
       "\n",
       "    .dataframe tbody tr th {\n",
       "        vertical-align: top;\n",
       "    }\n",
       "\n",
       "    .dataframe thead th {\n",
       "        text-align: right;\n",
       "    }\n",
       "</style>\n",
       "<table border=\"1\" class=\"dataframe\">\n",
       "  <thead>\n",
       "    <tr style=\"text-align: right;\">\n",
       "      <th></th>\n",
       "      <th>Unnamed: 0</th>\n",
       "      <th>시도</th>\n",
       "      <th>구분</th>\n",
       "      <th>인구</th>\n",
       "      <th>면적</th>\n",
       "    </tr>\n",
       "  </thead>\n",
       "  <tbody>\n",
       "    <tr>\n",
       "      <th>0</th>\n",
       "      <td>0</td>\n",
       "      <td>서울</td>\n",
       "      <td>특별시</td>\n",
       "      <td>999만</td>\n",
       "      <td>600.9</td>\n",
       "    </tr>\n",
       "    <tr>\n",
       "      <th>1</th>\n",
       "      <td>1</td>\n",
       "      <td>경기</td>\n",
       "      <td>도</td>\n",
       "      <td>1300만</td>\n",
       "      <td>10171.0</td>\n",
       "    </tr>\n",
       "    <tr>\n",
       "      <th>2</th>\n",
       "      <td>2</td>\n",
       "      <td>인천</td>\n",
       "      <td>광역시</td>\n",
       "      <td>400만</td>\n",
       "      <td>1234.5</td>\n",
       "    </tr>\n",
       "    <tr>\n",
       "      <th>3</th>\n",
       "      <td>3</td>\n",
       "      <td>부산</td>\n",
       "      <td>광역시</td>\n",
       "      <td>600만</td>\n",
       "      <td>747.8</td>\n",
       "    </tr>\n",
       "    <tr>\n",
       "      <th>4</th>\n",
       "      <td>4</td>\n",
       "      <td>대전</td>\n",
       "      <td>광역시</td>\n",
       "      <td>300만</td>\n",
       "      <td>459.1</td>\n",
       "    </tr>\n",
       "  </tbody>\n",
       "</table>\n",
       "</div>"
      ],
      "text/plain": [
       "   Unnamed: 0  시도   구분     인구       면적\n",
       "0           0  서울  특별시   999만    600.9\n",
       "1           1  경기    도  1300만  10171.0\n",
       "2           2  인천  광역시   400만   1234.5\n",
       "3           3  부산  광역시   600만    747.8\n",
       "4           4  대전  광역시   300만    459.1"
      ]
     },
     "execution_count": 2,
     "metadata": {},
     "output_type": "execute_result"
    }
   ],
   "source": [
    "# csv 파일을 읽어오는 방법\n",
    "df1 = pd.read_csv('result/temp.csv') \n",
    "    # utf-8 관련 에러 발생한다면? read_csv('data/temp.csv', encoding=cp949)\n",
    "    # cp949 : 윈도우에서의 한글\n",
    "df1"
   ]
  },
  {
   "cell_type": "code",
   "execution_count": 3,
   "metadata": {},
   "outputs": [
    {
     "data": {
      "text/html": [
       "<div>\n",
       "<style scoped>\n",
       "    .dataframe tbody tr th:only-of-type {\n",
       "        vertical-align: middle;\n",
       "    }\n",
       "\n",
       "    .dataframe tbody tr th {\n",
       "        vertical-align: top;\n",
       "    }\n",
       "\n",
       "    .dataframe thead th {\n",
       "        text-align: right;\n",
       "    }\n",
       "</style>\n",
       "<table border=\"1\" class=\"dataframe\">\n",
       "  <thead>\n",
       "    <tr style=\"text-align: right;\">\n",
       "      <th></th>\n",
       "      <th>No</th>\n",
       "      <th>시도</th>\n",
       "      <th>구분</th>\n",
       "      <th>인구</th>\n",
       "      <th>면적</th>\n",
       "    </tr>\n",
       "  </thead>\n",
       "  <tbody>\n",
       "    <tr>\n",
       "      <th>0</th>\n",
       "      <td>NaN</td>\n",
       "      <td>시도</td>\n",
       "      <td>구분</td>\n",
       "      <td>인구</td>\n",
       "      <td>면적</td>\n",
       "    </tr>\n",
       "    <tr>\n",
       "      <th>1</th>\n",
       "      <td>0.0</td>\n",
       "      <td>서울</td>\n",
       "      <td>특별시</td>\n",
       "      <td>999만</td>\n",
       "      <td>600.9</td>\n",
       "    </tr>\n",
       "    <tr>\n",
       "      <th>2</th>\n",
       "      <td>1.0</td>\n",
       "      <td>경기</td>\n",
       "      <td>도</td>\n",
       "      <td>1300만</td>\n",
       "      <td>10171.0</td>\n",
       "    </tr>\n",
       "    <tr>\n",
       "      <th>3</th>\n",
       "      <td>2.0</td>\n",
       "      <td>인천</td>\n",
       "      <td>광역시</td>\n",
       "      <td>400만</td>\n",
       "      <td>1234.5</td>\n",
       "    </tr>\n",
       "    <tr>\n",
       "      <th>4</th>\n",
       "      <td>3.0</td>\n",
       "      <td>부산</td>\n",
       "      <td>광역시</td>\n",
       "      <td>600만</td>\n",
       "      <td>747.8</td>\n",
       "    </tr>\n",
       "    <tr>\n",
       "      <th>5</th>\n",
       "      <td>4.0</td>\n",
       "      <td>대전</td>\n",
       "      <td>광역시</td>\n",
       "      <td>300만</td>\n",
       "      <td>459.1</td>\n",
       "    </tr>\n",
       "  </tbody>\n",
       "</table>\n",
       "</div>"
      ],
      "text/plain": [
       "    No  시도   구분     인구       면적\n",
       "0  NaN  시도   구분     인구       면적\n",
       "1  0.0  서울  특별시   999만    600.9\n",
       "2  1.0  경기    도  1300만  10171.0\n",
       "3  2.0  인천  광역시   400만   1234.5\n",
       "4  3.0  부산  광역시   600만    747.8\n",
       "5  4.0  대전  광역시   300만    459.1"
      ]
     },
     "execution_count": 3,
     "metadata": {},
     "output_type": "execute_result"
    }
   ],
   "source": [
    "# 컬럼명 지정\n",
    "df1 = pd.read_csv('data/temp.csv', names=['No','시도','구분','인구','면적']) \n",
    "df1      # 제목 한 줄이 데이타처럼 되어 있음"
   ]
  },
  {
   "cell_type": "code",
   "execution_count": 4,
   "metadata": {},
   "outputs": [
    {
     "data": {
      "text/html": [
       "<div>\n",
       "<style scoped>\n",
       "    .dataframe tbody tr th:only-of-type {\n",
       "        vertical-align: middle;\n",
       "    }\n",
       "\n",
       "    .dataframe tbody tr th {\n",
       "        vertical-align: top;\n",
       "    }\n",
       "\n",
       "    .dataframe thead th {\n",
       "        text-align: right;\n",
       "    }\n",
       "</style>\n",
       "<table border=\"1\" class=\"dataframe\">\n",
       "  <thead>\n",
       "    <tr style=\"text-align: right;\">\n",
       "      <th></th>\n",
       "      <th>시도</th>\n",
       "      <th>구분</th>\n",
       "      <th>인구</th>\n",
       "      <th>면적</th>\n",
       "    </tr>\n",
       "    <tr>\n",
       "      <th>No</th>\n",
       "      <th></th>\n",
       "      <th></th>\n",
       "      <th></th>\n",
       "      <th></th>\n",
       "    </tr>\n",
       "  </thead>\n",
       "  <tbody>\n",
       "    <tr>\n",
       "      <th>NaN</th>\n",
       "      <td>시도</td>\n",
       "      <td>구분</td>\n",
       "      <td>인구</td>\n",
       "      <td>면적</td>\n",
       "    </tr>\n",
       "    <tr>\n",
       "      <th>0.0</th>\n",
       "      <td>서울</td>\n",
       "      <td>특별시</td>\n",
       "      <td>999만</td>\n",
       "      <td>600.9</td>\n",
       "    </tr>\n",
       "    <tr>\n",
       "      <th>1.0</th>\n",
       "      <td>경기</td>\n",
       "      <td>도</td>\n",
       "      <td>1300만</td>\n",
       "      <td>10171.0</td>\n",
       "    </tr>\n",
       "    <tr>\n",
       "      <th>2.0</th>\n",
       "      <td>인천</td>\n",
       "      <td>광역시</td>\n",
       "      <td>400만</td>\n",
       "      <td>1234.5</td>\n",
       "    </tr>\n",
       "    <tr>\n",
       "      <th>3.0</th>\n",
       "      <td>부산</td>\n",
       "      <td>광역시</td>\n",
       "      <td>600만</td>\n",
       "      <td>747.8</td>\n",
       "    </tr>\n",
       "    <tr>\n",
       "      <th>4.0</th>\n",
       "      <td>대전</td>\n",
       "      <td>광역시</td>\n",
       "      <td>300만</td>\n",
       "      <td>459.1</td>\n",
       "    </tr>\n",
       "  </tbody>\n",
       "</table>\n",
       "</div>"
      ],
      "text/plain": [
       "     시도   구분     인구       면적\n",
       "No                          \n",
       "NaN  시도   구분     인구       면적\n",
       "0.0  서울  특별시   999만    600.9\n",
       "1.0  경기    도  1300만  10171.0\n",
       "2.0  인천  광역시   400만   1234.5\n",
       "3.0  부산  광역시   600만    747.8\n",
       "4.0  대전  광역시   300만    459.1"
      ]
     },
     "execution_count": 4,
     "metadata": {},
     "output_type": "execute_result"
    }
   ],
   "source": [
    "# 컬럼명을 인덱스로 지정\n",
    "df1 = pd.read_csv('data/temp.csv', \n",
    "                  names=['No','시도','구분','인구','면적'], index_col='No')\n",
    "df1"
   ]
  },
  {
   "cell_type": "code",
   "execution_count": 5,
   "metadata": {},
   "outputs": [
    {
     "data": {
      "text/html": [
       "<div>\n",
       "<style scoped>\n",
       "    .dataframe tbody tr th:only-of-type {\n",
       "        vertical-align: middle;\n",
       "    }\n",
       "\n",
       "    .dataframe tbody tr th {\n",
       "        vertical-align: top;\n",
       "    }\n",
       "\n",
       "    .dataframe thead th {\n",
       "        text-align: right;\n",
       "    }\n",
       "</style>\n",
       "<table border=\"1\" class=\"dataframe\">\n",
       "  <thead>\n",
       "    <tr style=\"text-align: right;\">\n",
       "      <th></th>\n",
       "      <th>시도</th>\n",
       "      <th>구분</th>\n",
       "      <th>인구</th>\n",
       "      <th>면적</th>\n",
       "    </tr>\n",
       "    <tr>\n",
       "      <th>No</th>\n",
       "      <th></th>\n",
       "      <th></th>\n",
       "      <th></th>\n",
       "      <th></th>\n",
       "    </tr>\n",
       "  </thead>\n",
       "  <tbody>\n",
       "    <tr>\n",
       "      <th>0</th>\n",
       "      <td>서울</td>\n",
       "      <td>특별시</td>\n",
       "      <td>999만</td>\n",
       "      <td>600.9</td>\n",
       "    </tr>\n",
       "    <tr>\n",
       "      <th>1</th>\n",
       "      <td>경기</td>\n",
       "      <td>도</td>\n",
       "      <td>1300만</td>\n",
       "      <td>10171.0</td>\n",
       "    </tr>\n",
       "    <tr>\n",
       "      <th>2</th>\n",
       "      <td>인천</td>\n",
       "      <td>광역시</td>\n",
       "      <td>400만</td>\n",
       "      <td>1234.5</td>\n",
       "    </tr>\n",
       "    <tr>\n",
       "      <th>3</th>\n",
       "      <td>부산</td>\n",
       "      <td>광역시</td>\n",
       "      <td>600만</td>\n",
       "      <td>747.8</td>\n",
       "    </tr>\n",
       "    <tr>\n",
       "      <th>4</th>\n",
       "      <td>대전</td>\n",
       "      <td>광역시</td>\n",
       "      <td>300만</td>\n",
       "      <td>459.1</td>\n",
       "    </tr>\n",
       "  </tbody>\n",
       "</table>\n",
       "</div>"
      ],
      "text/plain": [
       "    시도   구분     인구       면적\n",
       "No                         \n",
       "0   서울  특별시   999만    600.9\n",
       "1   경기    도  1300만  10171.0\n",
       "2   인천  광역시   400만   1234.5\n",
       "3   부산  광역시   600만    747.8\n",
       "4   대전  광역시   300만    459.1"
      ]
     },
     "execution_count": 5,
     "metadata": {},
     "output_type": "execute_result"
    }
   ],
   "source": [
    "# 불필요한 행 제외하고 로딩하기\n",
    "df1 = pd.read_csv('data/temp.csv', \n",
    "                  names=['No','시도','구분','인구','면적'], \n",
    "                  index_col='No', skiprows=[0])\n",
    "df1"
   ]
  },
  {
   "cell_type": "code",
   "execution_count": 6,
   "metadata": {},
   "outputs": [
    {
     "data": {
      "text/html": [
       "<div>\n",
       "<style scoped>\n",
       "    .dataframe tbody tr th:only-of-type {\n",
       "        vertical-align: middle;\n",
       "    }\n",
       "\n",
       "    .dataframe tbody tr th {\n",
       "        vertical-align: top;\n",
       "    }\n",
       "\n",
       "    .dataframe thead th {\n",
       "        text-align: right;\n",
       "    }\n",
       "</style>\n",
       "<table border=\"1\" class=\"dataframe\">\n",
       "  <thead>\n",
       "    <tr style=\"text-align: right;\">\n",
       "      <th></th>\n",
       "      <th>시도</th>\n",
       "      <th>구분</th>\n",
       "      <th>인구</th>\n",
       "      <th>면적</th>\n",
       "    </tr>\n",
       "    <tr>\n",
       "      <th>No</th>\n",
       "      <th></th>\n",
       "      <th></th>\n",
       "      <th></th>\n",
       "      <th></th>\n",
       "    </tr>\n",
       "  </thead>\n",
       "  <tbody>\n",
       "    <tr>\n",
       "      <th>0</th>\n",
       "      <td>서울</td>\n",
       "      <td>특별시</td>\n",
       "      <td>999만</td>\n",
       "      <td>600.9</td>\n",
       "    </tr>\n",
       "    <tr>\n",
       "      <th>1</th>\n",
       "      <td>경기</td>\n",
       "      <td>도</td>\n",
       "      <td>1300만</td>\n",
       "      <td>10171.0</td>\n",
       "    </tr>\n",
       "    <tr>\n",
       "      <th>2</th>\n",
       "      <td>인천</td>\n",
       "      <td>광역시</td>\n",
       "      <td>400만</td>\n",
       "      <td>1234.5</td>\n",
       "    </tr>\n",
       "  </tbody>\n",
       "</table>\n",
       "</div>"
      ],
      "text/plain": [
       "    시도   구분     인구       면적\n",
       "No                         \n",
       "0   서울  특별시   999만    600.9\n",
       "1   경기    도  1300만  10171.0\n",
       "2   인천  광역시   400만   1234.5"
      ]
     },
     "execution_count": 6,
     "metadata": {},
     "output_type": "execute_result"
    }
   ],
   "source": [
    "# 출력행수 지정\n",
    "df1 = pd.read_csv('data/temp.csv', \n",
    "                  names=['No','시도','구분','인구','면적'], \n",
    "                  index_col='No', skiprows=[0], nrows=3)\n",
    "df1"
   ]
  },
  {
   "cell_type": "code",
   "execution_count": 7,
   "metadata": {
    "scrolled": true
   },
   "outputs": [
    {
     "data": {
      "text/html": [
       "<div>\n",
       "<style scoped>\n",
       "    .dataframe tbody tr th:only-of-type {\n",
       "        vertical-align: middle;\n",
       "    }\n",
       "\n",
       "    .dataframe tbody tr th {\n",
       "        vertical-align: top;\n",
       "    }\n",
       "\n",
       "    .dataframe thead th {\n",
       "        text-align: right;\n",
       "    }\n",
       "</style>\n",
       "<table border=\"1\" class=\"dataframe\">\n",
       "  <thead>\n",
       "    <tr style=\"text-align: right;\">\n",
       "      <th></th>\n",
       "      <th>행정구역별</th>\n",
       "      <th>총인구</th>\n",
       "      <th>남자</th>\n",
       "      <th>여자</th>\n",
       "      <th>내국인계</th>\n",
       "      <th>내국인_남자</th>\n",
       "      <th>내국인_여자</th>\n",
       "      <th>외국인계</th>\n",
       "      <th>외국인_남자</th>\n",
       "      <th>외국인_여자</th>\n",
       "      <th>...</th>\n",
       "      <th>일반가구</th>\n",
       "      <th>집단가구</th>\n",
       "      <th>외국인가구</th>\n",
       "      <th>주택계</th>\n",
       "      <th>단독주택</th>\n",
       "      <th>아파트</th>\n",
       "      <th>연립주택</th>\n",
       "      <th>다세대주택</th>\n",
       "      <th>비거주용건물내주택</th>\n",
       "      <th>주택이외의거처</th>\n",
       "    </tr>\n",
       "  </thead>\n",
       "  <tbody>\n",
       "    <tr>\n",
       "      <th>0</th>\n",
       "      <td>전국</td>\n",
       "      <td>51069375</td>\n",
       "      <td>25608502</td>\n",
       "      <td>25460873</td>\n",
       "      <td>49705663</td>\n",
       "      <td>24819839</td>\n",
       "      <td>24885824</td>\n",
       "      <td>1363712</td>\n",
       "      <td>788663</td>\n",
       "      <td>575049</td>\n",
       "      <td>...</td>\n",
       "      <td>19111030</td>\n",
       "      <td>16464</td>\n",
       "      <td>433109</td>\n",
       "      <td>16367006</td>\n",
       "      <td>3973961</td>\n",
       "      <td>9806062</td>\n",
       "      <td>485349</td>\n",
       "      <td>1898090</td>\n",
       "      <td>203544</td>\n",
       "      <td>607195</td>\n",
       "    </tr>\n",
       "    <tr>\n",
       "      <th>1</th>\n",
       "      <td>읍부</td>\n",
       "      <td>4616802</td>\n",
       "      <td>2360708</td>\n",
       "      <td>2256094</td>\n",
       "      <td>4467697</td>\n",
       "      <td>2262853</td>\n",
       "      <td>2204844</td>\n",
       "      <td>149105</td>\n",
       "      <td>97855</td>\n",
       "      <td>51250</td>\n",
       "      <td>...</td>\n",
       "      <td>1695508</td>\n",
       "      <td>2189</td>\n",
       "      <td>39718</td>\n",
       "      <td>1614808</td>\n",
       "      <td>544351</td>\n",
       "      <td>864404</td>\n",
       "      <td>66387</td>\n",
       "      <td>112764</td>\n",
       "      <td>26902</td>\n",
       "      <td>49554</td>\n",
       "    </tr>\n",
       "    <tr>\n",
       "      <th>2</th>\n",
       "      <td>면부</td>\n",
       "      <td>4774878</td>\n",
       "      <td>2455898</td>\n",
       "      <td>2318980</td>\n",
       "      <td>4546520</td>\n",
       "      <td>2291860</td>\n",
       "      <td>2254660</td>\n",
       "      <td>228358</td>\n",
       "      <td>164038</td>\n",
       "      <td>64320</td>\n",
       "      <td>...</td>\n",
       "      <td>1927621</td>\n",
       "      <td>4284</td>\n",
       "      <td>49128</td>\n",
       "      <td>1982064</td>\n",
       "      <td>1524970</td>\n",
       "      <td>334810</td>\n",
       "      <td>31485</td>\n",
       "      <td>61366</td>\n",
       "      <td>29433</td>\n",
       "      <td>78036</td>\n",
       "    </tr>\n",
       "    <tr>\n",
       "      <th>3</th>\n",
       "      <td>동부</td>\n",
       "      <td>41677695</td>\n",
       "      <td>20791896</td>\n",
       "      <td>20885799</td>\n",
       "      <td>40691446</td>\n",
       "      <td>20265126</td>\n",
       "      <td>20426320</td>\n",
       "      <td>986249</td>\n",
       "      <td>526770</td>\n",
       "      <td>459479</td>\n",
       "      <td>...</td>\n",
       "      <td>15487901</td>\n",
       "      <td>9991</td>\n",
       "      <td>344263</td>\n",
       "      <td>12770134</td>\n",
       "      <td>1904640</td>\n",
       "      <td>8606848</td>\n",
       "      <td>387477</td>\n",
       "      <td>1723960</td>\n",
       "      <td>147209</td>\n",
       "      <td>479605</td>\n",
       "    </tr>\n",
       "    <tr>\n",
       "      <th>4</th>\n",
       "      <td>서울특별시</td>\n",
       "      <td>9904312</td>\n",
       "      <td>4859535</td>\n",
       "      <td>5044777</td>\n",
       "      <td>9567196</td>\n",
       "      <td>4694317</td>\n",
       "      <td>4872879</td>\n",
       "      <td>337116</td>\n",
       "      <td>165218</td>\n",
       "      <td>171898</td>\n",
       "      <td>...</td>\n",
       "      <td>3784490</td>\n",
       "      <td>2261</td>\n",
       "      <td>128069</td>\n",
       "      <td>2793244</td>\n",
       "      <td>355039</td>\n",
       "      <td>1636896</td>\n",
       "      <td>117235</td>\n",
       "      <td>654372</td>\n",
       "      <td>29702</td>\n",
       "      <td>150951</td>\n",
       "    </tr>\n",
       "  </tbody>\n",
       "</table>\n",
       "<p>5 rows × 21 columns</p>\n",
       "</div>"
      ],
      "text/plain": [
       "   행정구역별       총인구        남자        여자      내국인계    내국인_남자    내국인_여자     외국인계  \\\n",
       "0     전국  51069375  25608502  25460873  49705663  24819839  24885824  1363712   \n",
       "1     읍부   4616802   2360708   2256094   4467697   2262853   2204844   149105   \n",
       "2     면부   4774878   2455898   2318980   4546520   2291860   2254660   228358   \n",
       "3     동부  41677695  20791896  20885799  40691446  20265126  20426320   986249   \n",
       "4  서울특별시   9904312   4859535   5044777   9567196   4694317   4872879   337116   \n",
       "\n",
       "   외국인_남자  외국인_여자  ...      일반가구   집단가구   외국인가구       주택계     단독주택      아파트  \\\n",
       "0  788663  575049  ...  19111030  16464  433109  16367006  3973961  9806062   \n",
       "1   97855   51250  ...   1695508   2189   39718   1614808   544351   864404   \n",
       "2  164038   64320  ...   1927621   4284   49128   1982064  1524970   334810   \n",
       "3  526770  459479  ...  15487901   9991  344263  12770134  1904640  8606848   \n",
       "4  165218  171898  ...   3784490   2261  128069   2793244   355039  1636896   \n",
       "\n",
       "     연립주택    다세대주택  비거주용건물내주택  주택이외의거처  \n",
       "0  485349  1898090     203544   607195  \n",
       "1   66387   112764      26902    49554  \n",
       "2   31485    61366      29433    78036  \n",
       "3  387477  1723960     147209   479605  \n",
       "4  117235   654372      29702   150951  \n",
       "\n",
       "[5 rows x 21 columns]"
      ]
     },
     "execution_count": 7,
     "metadata": {},
     "output_type": "execute_result"
    }
   ],
   "source": [
    "# 엑셀 파일 로딩하기\n",
    "# 인구주택총조사2015.csv을 read_csv()하면 OSError 왜그럴까?\n",
    "# df2 = pd.read_csv('data/인구주택총조사2015.csv', nrows=5, engine='python')\n",
    "# df2\n",
    "\n",
    "# 행수 지정\n",
    "df2 = pd.read_excel('data/인구주택총조사2015.xlsx', nrows=5)\n",
    "df2\n",
    "# header=1  첫번째 줄이 컬럼명으로 되는것인가?"
   ]
  },
  {
   "cell_type": "code",
   "execution_count": 11,
   "metadata": {},
   "outputs": [
    {
     "ename": "ValueError",
     "evalue": "Invalid column name: 3",
     "output_type": "error",
     "traceback": [
      "\u001b[1;31m---------------------------------------------------------------------------\u001b[0m",
      "\u001b[1;31mValueError\u001b[0m                                Traceback (most recent call last)",
      "\u001b[1;32m<ipython-input-11-aa9843e52598>\u001b[0m in \u001b[0;36m<module>\u001b[1;34m\u001b[0m\n\u001b[0;32m      3\u001b[0m \u001b[0mdf2\u001b[0m\u001b[1;33m\u001b[0m\u001b[1;33m\u001b[0m\u001b[0m\n\u001b[0;32m      4\u001b[0m \u001b[1;33m\u001b[0m\u001b[0m\n\u001b[1;32m----> 5\u001b[1;33m \u001b[0mdf2\u001b[0m \u001b[1;33m=\u001b[0m \u001b[0mpd\u001b[0m\u001b[1;33m.\u001b[0m\u001b[0mread_excel\u001b[0m\u001b[1;33m(\u001b[0m\u001b[1;34m'data/인구주택총조사2015.xlsx'\u001b[0m\u001b[1;33m,\u001b[0m \u001b[0mnrows\u001b[0m\u001b[1;33m=\u001b[0m\u001b[1;36m5\u001b[0m\u001b[1;33m,\u001b[0m \u001b[0musecols\u001b[0m\u001b[1;33m=\u001b[0m\u001b[1;34m'3:10'\u001b[0m\u001b[1;33m)\u001b[0m\u001b[1;33m\u001b[0m\u001b[1;33m\u001b[0m\u001b[0m\n\u001b[0m\u001b[0;32m      6\u001b[0m \u001b[0mdf2\u001b[0m\u001b[1;33m\u001b[0m\u001b[1;33m\u001b[0m\u001b[0m\n",
      "\u001b[1;32mC:\\ProgramData\\Anaconda3\\lib\\site-packages\\pandas\\util\\_decorators.py\u001b[0m in \u001b[0;36mwrapper\u001b[1;34m(*args, **kwargs)\u001b[0m\n\u001b[0;32m    186\u001b[0m                 \u001b[1;32melse\u001b[0m\u001b[1;33m:\u001b[0m\u001b[1;33m\u001b[0m\u001b[1;33m\u001b[0m\u001b[0m\n\u001b[0;32m    187\u001b[0m                     \u001b[0mkwargs\u001b[0m\u001b[1;33m[\u001b[0m\u001b[0mnew_arg_name\u001b[0m\u001b[1;33m]\u001b[0m \u001b[1;33m=\u001b[0m \u001b[0mnew_arg_value\u001b[0m\u001b[1;33m\u001b[0m\u001b[1;33m\u001b[0m\u001b[0m\n\u001b[1;32m--> 188\u001b[1;33m             \u001b[1;32mreturn\u001b[0m \u001b[0mfunc\u001b[0m\u001b[1;33m(\u001b[0m\u001b[1;33m*\u001b[0m\u001b[0margs\u001b[0m\u001b[1;33m,\u001b[0m \u001b[1;33m**\u001b[0m\u001b[0mkwargs\u001b[0m\u001b[1;33m)\u001b[0m\u001b[1;33m\u001b[0m\u001b[1;33m\u001b[0m\u001b[0m\n\u001b[0m\u001b[0;32m    189\u001b[0m         \u001b[1;32mreturn\u001b[0m \u001b[0mwrapper\u001b[0m\u001b[1;33m\u001b[0m\u001b[1;33m\u001b[0m\u001b[0m\n\u001b[0;32m    190\u001b[0m     \u001b[1;32mreturn\u001b[0m \u001b[0m_deprecate_kwarg\u001b[0m\u001b[1;33m\u001b[0m\u001b[1;33m\u001b[0m\u001b[0m\n",
      "\u001b[1;32mC:\\ProgramData\\Anaconda3\\lib\\site-packages\\pandas\\util\\_decorators.py\u001b[0m in \u001b[0;36mwrapper\u001b[1;34m(*args, **kwargs)\u001b[0m\n\u001b[0;32m    186\u001b[0m                 \u001b[1;32melse\u001b[0m\u001b[1;33m:\u001b[0m\u001b[1;33m\u001b[0m\u001b[1;33m\u001b[0m\u001b[0m\n\u001b[0;32m    187\u001b[0m                     \u001b[0mkwargs\u001b[0m\u001b[1;33m[\u001b[0m\u001b[0mnew_arg_name\u001b[0m\u001b[1;33m]\u001b[0m \u001b[1;33m=\u001b[0m \u001b[0mnew_arg_value\u001b[0m\u001b[1;33m\u001b[0m\u001b[1;33m\u001b[0m\u001b[0m\n\u001b[1;32m--> 188\u001b[1;33m             \u001b[1;32mreturn\u001b[0m \u001b[0mfunc\u001b[0m\u001b[1;33m(\u001b[0m\u001b[1;33m*\u001b[0m\u001b[0margs\u001b[0m\u001b[1;33m,\u001b[0m \u001b[1;33m**\u001b[0m\u001b[0mkwargs\u001b[0m\u001b[1;33m)\u001b[0m\u001b[1;33m\u001b[0m\u001b[1;33m\u001b[0m\u001b[0m\n\u001b[0m\u001b[0;32m    189\u001b[0m         \u001b[1;32mreturn\u001b[0m \u001b[0mwrapper\u001b[0m\u001b[1;33m\u001b[0m\u001b[1;33m\u001b[0m\u001b[0m\n\u001b[0;32m    190\u001b[0m     \u001b[1;32mreturn\u001b[0m \u001b[0m_deprecate_kwarg\u001b[0m\u001b[1;33m\u001b[0m\u001b[1;33m\u001b[0m\u001b[0m\n",
      "\u001b[1;32mC:\\ProgramData\\Anaconda3\\lib\\site-packages\\pandas\\io\\excel.py\u001b[0m in \u001b[0;36mread_excel\u001b[1;34m(io, sheet_name, header, names, index_col, parse_cols, usecols, squeeze, dtype, engine, converters, true_values, false_values, skiprows, nrows, na_values, keep_default_na, verbose, parse_dates, date_parser, thousands, comment, skip_footer, skipfooter, convert_float, mangle_dupe_cols, **kwds)\u001b[0m\n\u001b[0;32m    373\u001b[0m         \u001b[0mconvert_float\u001b[0m\u001b[1;33m=\u001b[0m\u001b[0mconvert_float\u001b[0m\u001b[1;33m,\u001b[0m\u001b[1;33m\u001b[0m\u001b[1;33m\u001b[0m\u001b[0m\n\u001b[0;32m    374\u001b[0m         \u001b[0mmangle_dupe_cols\u001b[0m\u001b[1;33m=\u001b[0m\u001b[0mmangle_dupe_cols\u001b[0m\u001b[1;33m,\u001b[0m\u001b[1;33m\u001b[0m\u001b[1;33m\u001b[0m\u001b[0m\n\u001b[1;32m--> 375\u001b[1;33m         **kwds)\n\u001b[0m\u001b[0;32m    376\u001b[0m \u001b[1;33m\u001b[0m\u001b[0m\n\u001b[0;32m    377\u001b[0m \u001b[1;33m\u001b[0m\u001b[0m\n",
      "\u001b[1;32mC:\\ProgramData\\Anaconda3\\lib\\site-packages\\pandas\\io\\excel.py\u001b[0m in \u001b[0;36mparse\u001b[1;34m(self, sheet_name, header, names, index_col, usecols, squeeze, converters, true_values, false_values, skiprows, nrows, na_values, parse_dates, date_parser, thousands, comment, skipfooter, convert_float, mangle_dupe_cols, **kwds)\u001b[0m\n\u001b[0;32m    716\u001b[0m                                   \u001b[0mconvert_float\u001b[0m\u001b[1;33m=\u001b[0m\u001b[0mconvert_float\u001b[0m\u001b[1;33m,\u001b[0m\u001b[1;33m\u001b[0m\u001b[1;33m\u001b[0m\u001b[0m\n\u001b[0;32m    717\u001b[0m                                   \u001b[0mmangle_dupe_cols\u001b[0m\u001b[1;33m=\u001b[0m\u001b[0mmangle_dupe_cols\u001b[0m\u001b[1;33m,\u001b[0m\u001b[1;33m\u001b[0m\u001b[1;33m\u001b[0m\u001b[0m\n\u001b[1;32m--> 718\u001b[1;33m                                   **kwds)\n\u001b[0m\u001b[0;32m    719\u001b[0m \u001b[1;33m\u001b[0m\u001b[0m\n\u001b[0;32m    720\u001b[0m     \u001b[1;33m@\u001b[0m\u001b[0mproperty\u001b[0m\u001b[1;33m\u001b[0m\u001b[1;33m\u001b[0m\u001b[0m\n",
      "\u001b[1;32mC:\\ProgramData\\Anaconda3\\lib\\site-packages\\pandas\\io\\excel.py\u001b[0m in \u001b[0;36mparse\u001b[1;34m(self, sheet_name, header, names, index_col, usecols, squeeze, dtype, true_values, false_values, skiprows, nrows, na_values, verbose, parse_dates, date_parser, thousands, comment, skipfooter, convert_float, mangle_dupe_cols, **kwds)\u001b[0m\n\u001b[0;32m    525\u001b[0m \u001b[1;33m\u001b[0m\u001b[0m\n\u001b[0;32m    526\u001b[0m             \u001b[0mdata\u001b[0m \u001b[1;33m=\u001b[0m \u001b[1;33m[\u001b[0m\u001b[1;33m]\u001b[0m\u001b[1;33m\u001b[0m\u001b[1;33m\u001b[0m\u001b[0m\n\u001b[1;32m--> 527\u001b[1;33m             \u001b[0musecols\u001b[0m \u001b[1;33m=\u001b[0m \u001b[0m_maybe_convert_usecols\u001b[0m\u001b[1;33m(\u001b[0m\u001b[0musecols\u001b[0m\u001b[1;33m)\u001b[0m\u001b[1;33m\u001b[0m\u001b[1;33m\u001b[0m\u001b[0m\n\u001b[0m\u001b[0;32m    528\u001b[0m \u001b[1;33m\u001b[0m\u001b[0m\n\u001b[0;32m    529\u001b[0m             \u001b[1;32mfor\u001b[0m \u001b[0mi\u001b[0m \u001b[1;32min\u001b[0m \u001b[0mrange\u001b[0m\u001b[1;33m(\u001b[0m\u001b[0msheet\u001b[0m\u001b[1;33m.\u001b[0m\u001b[0mnrows\u001b[0m\u001b[1;33m)\u001b[0m\u001b[1;33m:\u001b[0m\u001b[1;33m\u001b[0m\u001b[1;33m\u001b[0m\u001b[0m\n",
      "\u001b[1;32mC:\\ProgramData\\Anaconda3\\lib\\site-packages\\pandas\\io\\excel.py\u001b[0m in \u001b[0;36m_maybe_convert_usecols\u001b[1;34m(usecols)\u001b[0m\n\u001b[0;32m    828\u001b[0m \u001b[1;33m\u001b[0m\u001b[0m\n\u001b[0;32m    829\u001b[0m     \u001b[1;32mif\u001b[0m \u001b[0misinstance\u001b[0m\u001b[1;33m(\u001b[0m\u001b[0musecols\u001b[0m\u001b[1;33m,\u001b[0m \u001b[0mcompat\u001b[0m\u001b[1;33m.\u001b[0m\u001b[0mstring_types\u001b[0m\u001b[1;33m)\u001b[0m\u001b[1;33m:\u001b[0m\u001b[1;33m\u001b[0m\u001b[1;33m\u001b[0m\u001b[0m\n\u001b[1;32m--> 830\u001b[1;33m         \u001b[1;32mreturn\u001b[0m \u001b[0m_range2cols\u001b[0m\u001b[1;33m(\u001b[0m\u001b[0musecols\u001b[0m\u001b[1;33m)\u001b[0m\u001b[1;33m\u001b[0m\u001b[1;33m\u001b[0m\u001b[0m\n\u001b[0m\u001b[0;32m    831\u001b[0m \u001b[1;33m\u001b[0m\u001b[0m\n\u001b[0;32m    832\u001b[0m     \u001b[1;32mreturn\u001b[0m \u001b[0musecols\u001b[0m\u001b[1;33m\u001b[0m\u001b[1;33m\u001b[0m\u001b[0m\n",
      "\u001b[1;32mC:\\ProgramData\\Anaconda3\\lib\\site-packages\\pandas\\io\\excel.py\u001b[0m in \u001b[0;36m_range2cols\u001b[1;34m(areas)\u001b[0m\n\u001b[0;32m    796\u001b[0m         \u001b[1;32mif\u001b[0m \u001b[1;34m\":\"\u001b[0m \u001b[1;32min\u001b[0m \u001b[0mrng\u001b[0m\u001b[1;33m:\u001b[0m\u001b[1;33m\u001b[0m\u001b[1;33m\u001b[0m\u001b[0m\n\u001b[0;32m    797\u001b[0m             \u001b[0mrng\u001b[0m \u001b[1;33m=\u001b[0m \u001b[0mrng\u001b[0m\u001b[1;33m.\u001b[0m\u001b[0msplit\u001b[0m\u001b[1;33m(\u001b[0m\u001b[1;34m\":\"\u001b[0m\u001b[1;33m)\u001b[0m\u001b[1;33m\u001b[0m\u001b[1;33m\u001b[0m\u001b[0m\n\u001b[1;32m--> 798\u001b[1;33m             \u001b[0mcols\u001b[0m\u001b[1;33m.\u001b[0m\u001b[0mextend\u001b[0m\u001b[1;33m(\u001b[0m\u001b[0mlrange\u001b[0m\u001b[1;33m(\u001b[0m\u001b[0m_excel2num\u001b[0m\u001b[1;33m(\u001b[0m\u001b[0mrng\u001b[0m\u001b[1;33m[\u001b[0m\u001b[1;36m0\u001b[0m\u001b[1;33m]\u001b[0m\u001b[1;33m)\u001b[0m\u001b[1;33m,\u001b[0m \u001b[0m_excel2num\u001b[0m\u001b[1;33m(\u001b[0m\u001b[0mrng\u001b[0m\u001b[1;33m[\u001b[0m\u001b[1;36m1\u001b[0m\u001b[1;33m]\u001b[0m\u001b[1;33m)\u001b[0m \u001b[1;33m+\u001b[0m \u001b[1;36m1\u001b[0m\u001b[1;33m)\u001b[0m\u001b[1;33m)\u001b[0m\u001b[1;33m\u001b[0m\u001b[1;33m\u001b[0m\u001b[0m\n\u001b[0m\u001b[0;32m    799\u001b[0m         \u001b[1;32melse\u001b[0m\u001b[1;33m:\u001b[0m\u001b[1;33m\u001b[0m\u001b[1;33m\u001b[0m\u001b[0m\n\u001b[0;32m    800\u001b[0m             \u001b[0mcols\u001b[0m\u001b[1;33m.\u001b[0m\u001b[0mappend\u001b[0m\u001b[1;33m(\u001b[0m\u001b[0m_excel2num\u001b[0m\u001b[1;33m(\u001b[0m\u001b[0mrng\u001b[0m\u001b[1;33m)\u001b[0m\u001b[1;33m)\u001b[0m\u001b[1;33m\u001b[0m\u001b[1;33m\u001b[0m\u001b[0m\n",
      "\u001b[1;32mC:\\ProgramData\\Anaconda3\\lib\\site-packages\\pandas\\io\\excel.py\u001b[0m in \u001b[0;36m_excel2num\u001b[1;34m(x)\u001b[0m\n\u001b[0;32m    763\u001b[0m \u001b[1;33m\u001b[0m\u001b[0m\n\u001b[0;32m    764\u001b[0m         \u001b[1;32mif\u001b[0m \u001b[0mcp\u001b[0m \u001b[1;33m<\u001b[0m \u001b[0mord\u001b[0m\u001b[1;33m(\u001b[0m\u001b[1;34m\"A\"\u001b[0m\u001b[1;33m)\u001b[0m \u001b[1;32mor\u001b[0m \u001b[0mcp\u001b[0m \u001b[1;33m>\u001b[0m \u001b[0mord\u001b[0m\u001b[1;33m(\u001b[0m\u001b[1;34m\"Z\"\u001b[0m\u001b[1;33m)\u001b[0m\u001b[1;33m:\u001b[0m\u001b[1;33m\u001b[0m\u001b[1;33m\u001b[0m\u001b[0m\n\u001b[1;32m--> 765\u001b[1;33m             \u001b[1;32mraise\u001b[0m \u001b[0mValueError\u001b[0m\u001b[1;33m(\u001b[0m\u001b[1;34m\"Invalid column name: {x}\"\u001b[0m\u001b[1;33m.\u001b[0m\u001b[0mformat\u001b[0m\u001b[1;33m(\u001b[0m\u001b[0mx\u001b[0m\u001b[1;33m=\u001b[0m\u001b[0mx\u001b[0m\u001b[1;33m)\u001b[0m\u001b[1;33m)\u001b[0m\u001b[1;33m\u001b[0m\u001b[1;33m\u001b[0m\u001b[0m\n\u001b[0m\u001b[0;32m    766\u001b[0m \u001b[1;33m\u001b[0m\u001b[0m\n\u001b[0;32m    767\u001b[0m         \u001b[0mindex\u001b[0m \u001b[1;33m=\u001b[0m \u001b[0mindex\u001b[0m \u001b[1;33m*\u001b[0m \u001b[1;36m26\u001b[0m \u001b[1;33m+\u001b[0m \u001b[0mcp\u001b[0m \u001b[1;33m-\u001b[0m \u001b[0mord\u001b[0m\u001b[1;33m(\u001b[0m\u001b[1;34m\"A\"\u001b[0m\u001b[1;33m)\u001b[0m \u001b[1;33m+\u001b[0m \u001b[1;36m1\u001b[0m\u001b[1;33m\u001b[0m\u001b[1;33m\u001b[0m\u001b[0m\n",
      "\u001b[1;31mValueError\u001b[0m: Invalid column name: 3"
     ]
    }
   ],
   "source": [
    "# 컬럼 지정 (컬럼의 종류가 너무 많은데 필요한 부분이 작은 경우에 사용한다)\n",
    "df2 = pd.read_excel('data/인구주택총조사2015.xlsx', nrows=5, usecols='C:K')\n",
    "df2\n",
    "  \n",
    "# df2 = pd.read_excel('data/인구주택총조사2015.xlsx', nrows=5, usecols='3:10') -> 에러발생\n",
    "# df2"
   ]
  },
  {
   "cell_type": "code",
   "execution_count": null,
   "metadata": {},
   "outputs": [],
   "source": []
  },
  {
   "cell_type": "code",
   "execution_count": null,
   "metadata": {},
   "outputs": [],
   "source": []
  },
  {
   "cell_type": "code",
   "execution_count": null,
   "metadata": {},
   "outputs": [],
   "source": []
  },
  {
   "cell_type": "markdown",
   "metadata": {},
   "source": [
    "위의 인구조사 데이타에서 정보를 추출"
   ]
  },
  {
   "cell_type": "markdown",
   "metadata": {},
   "source": [
    "### 텍스트파일 읽어오기"
   ]
  },
  {
   "cell_type": "code",
   "execution_count": 7,
   "metadata": {},
   "outputs": [
    {
     "name": "stderr",
     "output_type": "stream",
     "text": [
      "C:\\ProgramData\\Anaconda3\\lib\\site-packages\\ipykernel_launcher.py:3: FutureWarning: read_table is deprecated, use read_csv instead, passing sep='\\t'.\n",
      "  This is separate from the ipykernel package so we can avoid doing imports until\n"
     ]
    },
    {
     "data": {
      "text/html": [
       "<div>\n",
       "<style scoped>\n",
       "    .dataframe tbody tr th:only-of-type {\n",
       "        vertical-align: middle;\n",
       "    }\n",
       "\n",
       "    .dataframe tbody tr th {\n",
       "        vertical-align: top;\n",
       "    }\n",
       "\n",
       "    .dataframe thead th {\n",
       "        text-align: right;\n",
       "    }\n",
       "</style>\n",
       "<table border=\"1\" class=\"dataframe\">\n",
       "  <thead>\n",
       "    <tr style=\"text-align: right;\">\n",
       "      <th></th>\n",
       "      <th>행정구역별</th>\n",
       "      <th>총인구</th>\n",
       "      <th>남자</th>\n",
       "      <th>여자</th>\n",
       "      <th>내국인계</th>\n",
       "      <th>내국인_남자</th>\n",
       "    </tr>\n",
       "  </thead>\n",
       "  <tbody>\n",
       "    <tr>\n",
       "      <th>0</th>\n",
       "      <td>전국</td>\n",
       "      <td>51069375</td>\n",
       "      <td>25608502</td>\n",
       "      <td>25460873</td>\n",
       "      <td>49705663</td>\n",
       "      <td>24819839</td>\n",
       "    </tr>\n",
       "    <tr>\n",
       "      <th>1</th>\n",
       "      <td>읍부</td>\n",
       "      <td>4616802</td>\n",
       "      <td>2360708</td>\n",
       "      <td>2256094</td>\n",
       "      <td>4467697</td>\n",
       "      <td>2262853</td>\n",
       "    </tr>\n",
       "    <tr>\n",
       "      <th>2</th>\n",
       "      <td>면부</td>\n",
       "      <td>4774878</td>\n",
       "      <td>2455898</td>\n",
       "      <td>2318980</td>\n",
       "      <td>4546520</td>\n",
       "      <td>2291860</td>\n",
       "    </tr>\n",
       "    <tr>\n",
       "      <th>3</th>\n",
       "      <td>동부</td>\n",
       "      <td>41677695</td>\n",
       "      <td>20791896</td>\n",
       "      <td>20885799</td>\n",
       "      <td>40691446</td>\n",
       "      <td>20265126</td>\n",
       "    </tr>\n",
       "  </tbody>\n",
       "</table>\n",
       "</div>"
      ],
      "text/plain": [
       "  행정구역별       총인구        남자        여자      내국인계    내국인_남자\n",
       "0    전국  51069375  25608502  25460873  49705663  24819839\n",
       "1    읍부   4616802   2360708   2256094   4467697   2262853\n",
       "2    면부   4774878   2455898   2318980   4546520   2291860\n",
       "3    동부  41677695  20791896  20885799  40691446  20265126"
      ]
     },
     "execution_count": 7,
     "metadata": {},
     "output_type": "execute_result"
    }
   ],
   "source": [
    "# 텍스트파일 읽어오기\n",
    "# 미리 엑셀파일에서 5줄 복사해서 메모장에 넣고 (탭구분상태)로 저장한다.\n",
    "df3 = pd.read_table('data/TextData.txt', encoding='cp949')  # encoding 안하면 에러\n",
    "df3"
   ]
  },
  {
   "cell_type": "markdown",
   "metadata": {},
   "source": [
    "### JSON 파일 읽어오기"
   ]
  },
  {
   "cell_type": "code",
   "execution_count": 8,
   "metadata": {},
   "outputs": [
    {
     "data": {
      "text/plain": [
       "{'kind1': 'koreanfood',\n",
       " 'region': ['nosong', 'bibim', 'jungsung'],\n",
       " 'food_name': {'best-of-best': 'bibimbab', 'one-of-best': 'bulgogi'}}"
      ]
     },
     "execution_count": 8,
     "metadata": {},
     "output_type": "execute_result"
    }
   ],
   "source": [
    "# JSON 파일 읽어오기\n",
    "import json\n",
    "df4 = json.load(open('data/JsonData.json'))\n",
    "df4"
   ]
  },
  {
   "cell_type": "code",
   "execution_count": 9,
   "metadata": {},
   "outputs": [
    {
     "data": {
      "text/plain": [
       "dict_keys(['kind1', 'region', 'food_name'])"
      ]
     },
     "execution_count": 9,
     "metadata": {},
     "output_type": "execute_result"
    }
   ],
   "source": [
    "df4.keys()"
   ]
  },
  {
   "cell_type": "code",
   "execution_count": 10,
   "metadata": {},
   "outputs": [
    {
     "data": {
      "text/plain": [
       "dict_keys(['best-of-best', 'one-of-best'])"
      ]
     },
     "execution_count": 10,
     "metadata": {},
     "output_type": "execute_result"
    }
   ],
   "source": [
    "df4['food_name'].keys()"
   ]
  },
  {
   "cell_type": "code",
   "execution_count": 11,
   "metadata": {},
   "outputs": [
    {
     "ename": "AttributeError",
     "evalue": "'list' object has no attribute 'keys'",
     "output_type": "error",
     "traceback": [
      "\u001b[1;31m---------------------------------------------------------------------------\u001b[0m",
      "\u001b[1;31mAttributeError\u001b[0m                            Traceback (most recent call last)",
      "\u001b[1;32m<ipython-input-11-43b294349b01>\u001b[0m in \u001b[0;36m<module>\u001b[1;34m\u001b[0m\n\u001b[1;32m----> 1\u001b[1;33m \u001b[0mdf4\u001b[0m\u001b[1;33m[\u001b[0m\u001b[1;34m'region'\u001b[0m\u001b[1;33m]\u001b[0m\u001b[1;33m.\u001b[0m\u001b[0mkeys\u001b[0m\u001b[1;33m(\u001b[0m\u001b[1;33m)\u001b[0m\u001b[1;33m\u001b[0m\u001b[1;33m\u001b[0m\u001b[0m\n\u001b[0m",
      "\u001b[1;31mAttributeError\u001b[0m: 'list' object has no attribute 'keys'"
     ]
    }
   ],
   "source": [
    "df4['region'].keys() -> 에러"
   ]
  },
  {
   "cell_type": "code",
   "execution_count": 13,
   "metadata": {},
   "outputs": [
    {
     "data": {
      "text/plain": [
       "{'best-of-best': 'bibimbab', 'one-of-best': 'bulgogi'}"
      ]
     },
     "execution_count": 13,
     "metadata": {},
     "output_type": "execute_result"
    }
   ],
   "source": [
    "df4['food_name']"
   ]
  },
  {
   "cell_type": "code",
   "execution_count": 14,
   "metadata": {},
   "outputs": [
    {
     "data": {
      "text/plain": [
       "'bibimbab'"
      ]
     },
     "execution_count": 14,
     "metadata": {},
     "output_type": "execute_result"
    }
   ],
   "source": [
    "df4['food_name']['best-of-best']"
   ]
  },
  {
   "cell_type": "code",
   "execution_count": null,
   "metadata": {},
   "outputs": [],
   "source": []
  },
  {
   "cell_type": "code",
   "execution_count": null,
   "metadata": {},
   "outputs": [],
   "source": []
  },
  {
   "cell_type": "code",
   "execution_count": null,
   "metadata": {},
   "outputs": [],
   "source": []
  }
 ],
 "metadata": {
  "kernelspec": {
   "display_name": "Python 3",
   "language": "python",
   "name": "python3"
  },
  "language_info": {
   "codemirror_mode": {
    "name": "ipython",
    "version": 3
   },
   "file_extension": ".py",
   "mimetype": "text/x-python",
   "name": "python",
   "nbconvert_exporter": "python",
   "pygments_lexer": "ipython3",
   "version": "3.7.3"
  }
 },
 "nbformat": 4,
 "nbformat_minor": 2
}
