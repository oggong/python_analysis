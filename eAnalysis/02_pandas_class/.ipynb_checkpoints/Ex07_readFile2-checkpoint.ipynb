{
 "cells": [
  {
   "cell_type": "markdown",
   "metadata": {},
   "source": [
    "## 인터넷 상의 데이타 읽기\n",
    "\n",
    "1. Url 상의 csv 읽기 :  pandas.read_csv(url) \n",
    "\n",
    "2. 크롤링하여 읽기\n",
    "\n",
    "    ` requests / Selenium 라이브러리 활용\n",
    "    ` pandas.read_html(url, .. ) : 내부적으로 requests 라이브러리 사용\n",
    "    \n",
    "3. pandas-datareader 라이브러리\n",
    "\n",
    "    ` 내부적으로 requests 라이브러리 사용\n",
    "    ` 버전에 따라 오류 발생\n",
    "    ` Google Finance/Yahoo Finance 등에서 데이타 지원 -> 연결이 안될 수도 있음"
   ]
  },
  {
   "cell_type": "markdown",
   "metadata": {},
   "source": [
    "    [참고] Kosdaq 종목코드 CSV URL : https://goo.gl/3p3dSG\n",
    "\n",
    "        - https://gist.githubusercontent.com/allieus/5ce98166166d06ee9060e6a261e812dc/raw\n",
    "        - 위 주소를 pandas.read_csv(여기)에 붙이기\n",
    "\n",
    "    [참고] Kospi 종목코드 CSV URL : https://goo.gl/aUHznC\n",
    "\n",
    "        - https://gist.githubusercontent.com/allieus/733725662c644ab56c9db9d3cdf77ed1/raw"
   ]
  },
  {
   "cell_type": "code",
   "execution_count": 7,
   "metadata": {},
   "outputs": [
    {
     "data": {
      "text/plain": [
       "종목명     제일홀딩스\n",
       "종목코드     3380\n",
       "Name: 0, dtype: object"
      ]
     },
     "execution_count": 7,
     "metadata": {},
     "output_type": "execute_result"
    }
   ],
   "source": [
    "import pandas as pd\n",
    "\n",
    "\"\"\" (1) read_csv() \"\"\"\n",
    "\n",
    "df = pd.read_csv('https://gist.githubusercontent.com/allieus/5ce98166166d06ee9060e6a261e812dc/raw')\n",
    "df.shape\n",
    "df.head()\n",
    "df.loc[0]"
   ]
  },
  {
   "cell_type": "code",
   "execution_count": 12,
   "metadata": {},
   "outputs": [
    {
     "data": {
      "text/plain": [
       "list"
      ]
     },
     "execution_count": 12,
     "metadata": {},
     "output_type": "execute_result"
    }
   ],
   "source": [
    "\"\"\" (2) pandas.read_html()\n",
    "        ` 웹페이지 크롤링을 쉽게 도와주는 만능 라이브러리 X (아님)\n",
    "        ` 웹 페이지 상의 HTML table을 한번에 로딩하기 위한 목적임\n",
    "          그러나 데이터 외에 다른 문자열이 있으면 곤란\n",
    "\"\"\"\n",
    "     \n",
    "# 한국천문연구원 > 생활천문관 > 월별 음양력\n",
    "# https://astro.kasi.re.kr/life/pageView/5\n",
    "# pd.read_html('https://astro.kasi.re.kr/life/pageView/5')  # 웹페이지도 utf-8임에도 한글은 깨짐\n",
    "df_list = pd.read_html('https://astro.kasi.re.kr/life/pageView/5', encoding='utf-8')  "
   ]
  },
  {
   "cell_type": "code",
   "execution_count": 15,
   "metadata": {
    "collapsed": true
   },
   "outputs": [
    {
     "name": "stdout",
     "output_type": "stream",
     "text": [
      "[                양력          음력                     음력간지\n",
      "0   2019-02-01 (금)  2018-12-27  무술(戊戌)년 을축(乙丑)월 기사(己巳)일\n",
      "1   2019-02-02 (토)  2018-12-28  무술(戊戌)년 을축(乙丑)월 경오(庚午)일\n",
      "2   2019-02-03 (일)  2018-12-29  무술(戊戌)년 을축(乙丑)월 신미(辛未)일\n",
      "3   2019-02-04 (월)  2018-12-30  무술(戊戌)년 을축(乙丑)월 임신(壬申)일\n",
      "4   2019-02-05 (화)  2019-01-01  기해(己亥)년 병인(丙寅)월 계유(癸酉)일\n",
      "5   2019-02-06 (수)  2019-01-02  기해(己亥)년 병인(丙寅)월 갑술(甲戌)일\n",
      "6   2019-02-07 (목)  2019-01-03  기해(己亥)년 병인(丙寅)월 을해(乙亥)일\n",
      "7   2019-02-08 (금)  2019-01-04  기해(己亥)년 병인(丙寅)월 병자(丙子)일\n",
      "8   2019-02-09 (토)  2019-01-05  기해(己亥)년 병인(丙寅)월 정축(丁丑)일\n",
      "9   2019-02-10 (일)  2019-01-06  기해(己亥)년 병인(丙寅)월 무인(戊寅)일\n",
      "10  2019-02-11 (월)  2019-01-07  기해(己亥)년 병인(丙寅)월 기묘(己卯)일\n",
      "11  2019-02-12 (화)  2019-01-08  기해(己亥)년 병인(丙寅)월 경진(庚辰)일\n",
      "12  2019-02-13 (수)  2019-01-09  기해(己亥)년 병인(丙寅)월 신사(辛巳)일\n",
      "13  2019-02-14 (목)  2019-01-10  기해(己亥)년 병인(丙寅)월 임오(壬午)일\n",
      "14  2019-02-15 (금)  2019-01-11  기해(己亥)년 병인(丙寅)월 계미(癸未)일\n",
      "15  2019-02-16 (토)  2019-01-12  기해(己亥)년 병인(丙寅)월 갑신(甲申)일\n",
      "16  2019-02-17 (일)  2019-01-13  기해(己亥)년 병인(丙寅)월 을유(乙酉)일\n",
      "17  2019-02-18 (월)  2019-01-14  기해(己亥)년 병인(丙寅)월 병술(丙戌)일\n",
      "18  2019-02-19 (화)  2019-01-15  기해(己亥)년 병인(丙寅)월 정해(丁亥)일\n",
      "19  2019-02-20 (수)  2019-01-16  기해(己亥)년 병인(丙寅)월 무자(戊子)일\n",
      "20  2019-02-21 (목)  2019-01-17  기해(己亥)년 병인(丙寅)월 기축(己丑)일\n",
      "21  2019-02-22 (금)  2019-01-18  기해(己亥)년 병인(丙寅)월 경인(庚寅)일\n",
      "22  2019-02-23 (토)  2019-01-19  기해(己亥)년 병인(丙寅)월 신묘(辛卯)일\n",
      "23  2019-02-24 (일)  2019-01-20  기해(己亥)년 병인(丙寅)월 임진(壬辰)일\n",
      "24  2019-02-25 (월)  2019-01-21  기해(己亥)년 병인(丙寅)월 계사(癸巳)일\n",
      "25  2019-02-26 (화)  2019-01-22  기해(己亥)년 병인(丙寅)월 갑오(甲午)일\n",
      "26  2019-02-27 (수)  2019-01-23  기해(己亥)년 병인(丙寅)월 을미(乙未)일\n",
      "27  2019-02-28 (목)  2019-01-24  기해(己亥)년 병인(丙寅)월 병신(丙申)일]\n",
      "                양력          음력                     음력간지\n",
      "0   2019-02-01 (금)  2018-12-27  무술(戊戌)년 을축(乙丑)월 기사(己巳)일\n",
      "1   2019-02-02 (토)  2018-12-28  무술(戊戌)년 을축(乙丑)월 경오(庚午)일\n",
      "2   2019-02-03 (일)  2018-12-29  무술(戊戌)년 을축(乙丑)월 신미(辛未)일\n",
      "3   2019-02-04 (월)  2018-12-30  무술(戊戌)년 을축(乙丑)월 임신(壬申)일\n",
      "4   2019-02-05 (화)  2019-01-01  기해(己亥)년 병인(丙寅)월 계유(癸酉)일\n",
      "5   2019-02-06 (수)  2019-01-02  기해(己亥)년 병인(丙寅)월 갑술(甲戌)일\n",
      "6   2019-02-07 (목)  2019-01-03  기해(己亥)년 병인(丙寅)월 을해(乙亥)일\n",
      "7   2019-02-08 (금)  2019-01-04  기해(己亥)년 병인(丙寅)월 병자(丙子)일\n",
      "8   2019-02-09 (토)  2019-01-05  기해(己亥)년 병인(丙寅)월 정축(丁丑)일\n",
      "9   2019-02-10 (일)  2019-01-06  기해(己亥)년 병인(丙寅)월 무인(戊寅)일\n",
      "10  2019-02-11 (월)  2019-01-07  기해(己亥)년 병인(丙寅)월 기묘(己卯)일\n",
      "11  2019-02-12 (화)  2019-01-08  기해(己亥)년 병인(丙寅)월 경진(庚辰)일\n",
      "12  2019-02-13 (수)  2019-01-09  기해(己亥)년 병인(丙寅)월 신사(辛巳)일\n",
      "13  2019-02-14 (목)  2019-01-10  기해(己亥)년 병인(丙寅)월 임오(壬午)일\n",
      "14  2019-02-15 (금)  2019-01-11  기해(己亥)년 병인(丙寅)월 계미(癸未)일\n",
      "15  2019-02-16 (토)  2019-01-12  기해(己亥)년 병인(丙寅)월 갑신(甲申)일\n",
      "16  2019-02-17 (일)  2019-01-13  기해(己亥)년 병인(丙寅)월 을유(乙酉)일\n",
      "17  2019-02-18 (월)  2019-01-14  기해(己亥)년 병인(丙寅)월 병술(丙戌)일\n",
      "18  2019-02-19 (화)  2019-01-15  기해(己亥)년 병인(丙寅)월 정해(丁亥)일\n",
      "19  2019-02-20 (수)  2019-01-16  기해(己亥)년 병인(丙寅)월 무자(戊子)일\n",
      "20  2019-02-21 (목)  2019-01-17  기해(己亥)년 병인(丙寅)월 기축(己丑)일\n",
      "21  2019-02-22 (금)  2019-01-18  기해(己亥)년 병인(丙寅)월 경인(庚寅)일\n",
      "22  2019-02-23 (토)  2019-01-19  기해(己亥)년 병인(丙寅)월 신묘(辛卯)일\n",
      "23  2019-02-24 (일)  2019-01-20  기해(己亥)년 병인(丙寅)월 임진(壬辰)일\n",
      "24  2019-02-25 (월)  2019-01-21  기해(己亥)년 병인(丙寅)월 계사(癸巳)일\n",
      "25  2019-02-26 (화)  2019-01-22  기해(己亥)년 병인(丙寅)월 갑오(甲午)일\n",
      "26  2019-02-27 (수)  2019-01-23  기해(己亥)년 병인(丙寅)월 을미(乙未)일\n",
      "27  2019-02-28 (목)  2019-01-24  기해(己亥)년 병인(丙寅)월 병신(丙申)일\n"
     ]
    },
    {
     "ename": "AttributeError",
     "evalue": "'list' object has no attribute 'shape'",
     "output_type": "error",
     "traceback": [
      "\u001b[1;31m---------------------------------------------------------------------------\u001b[0m",
      "\u001b[1;31mAttributeError\u001b[0m                            Traceback (most recent call last)",
      "\u001b[1;32m<ipython-input-15-b3cc98819566>\u001b[0m in \u001b[0;36m<module>\u001b[1;34m\u001b[0m\n\u001b[0;32m      4\u001b[0m \u001b[0mprint\u001b[0m\u001b[1;33m(\u001b[0m\u001b[0mdf_list\u001b[0m\u001b[1;33m[\u001b[0m\u001b[1;36m0\u001b[0m\u001b[1;33m]\u001b[0m\u001b[1;33m)\u001b[0m\u001b[1;33m\u001b[0m\u001b[1;33m\u001b[0m\u001b[0m\n\u001b[0;32m      5\u001b[0m \u001b[1;33m\u001b[0m\u001b[0m\n\u001b[1;32m----> 6\u001b[1;33m \u001b[0mdf_list\u001b[0m\u001b[1;33m.\u001b[0m\u001b[0mshape\u001b[0m\u001b[1;33m\u001b[0m\u001b[1;33m\u001b[0m\u001b[0m\n\u001b[0m",
      "\u001b[1;31mAttributeError\u001b[0m: 'list' object has no attribute 'shape'"
     ]
    }
   ],
   "source": [
    "# 결과를 보면 [ ] 안에 데이타 있다. 이는 웹에 하나 이상의 테이블이 있을 수 있기 때문에\n",
    "type(df_list)\n",
    "print(df_list)\n",
    "print(df_list[0])"
   ]
  },
  {
   "cell_type": "code",
   "execution_count": 17,
   "metadata": {},
   "outputs": [
    {
     "data": {
      "text/html": [
       "<div>\n",
       "<style scoped>\n",
       "    .dataframe tbody tr th:only-of-type {\n",
       "        vertical-align: middle;\n",
       "    }\n",
       "\n",
       "    .dataframe tbody tr th {\n",
       "        vertical-align: top;\n",
       "    }\n",
       "\n",
       "    .dataframe thead th {\n",
       "        text-align: right;\n",
       "    }\n",
       "</style>\n",
       "<table border=\"1\" class=\"dataframe\">\n",
       "  <thead>\n",
       "    <tr style=\"text-align: right;\">\n",
       "      <th></th>\n",
       "      <th>High</th>\n",
       "      <th>Low</th>\n",
       "      <th>Open</th>\n",
       "      <th>Close</th>\n",
       "      <th>Volume</th>\n",
       "      <th>Adj Close</th>\n",
       "    </tr>\n",
       "    <tr>\n",
       "      <th>Date</th>\n",
       "      <th></th>\n",
       "      <th></th>\n",
       "      <th></th>\n",
       "      <th></th>\n",
       "      <th></th>\n",
       "      <th></th>\n",
       "    </tr>\n",
       "  </thead>\n",
       "  <tbody>\n",
       "    <tr>\n",
       "      <th>2019-01-02</th>\n",
       "      <td>122000</td>\n",
       "      <td>117000</td>\n",
       "      <td>121000</td>\n",
       "      <td>118000</td>\n",
       "      <td>356120</td>\n",
       "      <td>118000</td>\n",
       "    </tr>\n",
       "    <tr>\n",
       "      <th>2019-01-03</th>\n",
       "      <td>125000</td>\n",
       "      <td>119000</td>\n",
       "      <td>120000</td>\n",
       "      <td>122000</td>\n",
       "      <td>525020</td>\n",
       "      <td>122000</td>\n",
       "    </tr>\n",
       "    <tr>\n",
       "      <th>2019-01-04</th>\n",
       "      <td>126000</td>\n",
       "      <td>122500</td>\n",
       "      <td>123500</td>\n",
       "      <td>125500</td>\n",
       "      <td>520785</td>\n",
       "      <td>125500</td>\n",
       "    </tr>\n",
       "  </tbody>\n",
       "</table>\n",
       "</div>"
      ],
      "text/plain": [
       "              High     Low    Open   Close  Volume  Adj Close\n",
       "Date                                                         \n",
       "2019-01-02  122000  117000  121000  118000  356120     118000\n",
       "2019-01-03  125000  119000  120000  122000  525020     122000\n",
       "2019-01-04  126000  122500  123500  125500  520785     125500"
      ]
     },
     "execution_count": 17,
     "metadata": {},
     "output_type": "execute_result"
    }
   ],
   "source": [
    "\"\"\" (3) pandas-datareader 라이브러리 \n",
    "        ` 설치 필요\n",
    "        ` 최신버전 업그레이드 필수\n",
    "        ` pip install --upgrade pandas-datareader\n",
    "        ` Anaconda Prompt에서 확인 가능(반드시 관리자 권한으로 실행) : conda install pandas-datareader\n",
    "\"\"\"\n",
    "\n",
    "import pandas_datareader as pdr\n",
    "pdr.get_data_yahoo('035420.KS', '2019-01-01','2019-01-05') # 종목코드, 기간지정"
   ]
  }
 ],
 "metadata": {
  "kernelspec": {
   "display_name": "Python 3",
   "language": "python",
   "name": "python3"
  },
  "language_info": {
   "codemirror_mode": {
    "name": "ipython",
    "version": 3
   },
   "file_extension": ".py",
   "mimetype": "text/x-python",
   "name": "python",
   "nbconvert_exporter": "python",
   "pygments_lexer": "ipython3",
   "version": "3.7.1"
  }
 },
 "nbformat": 4,
 "nbformat_minor": 2
}
