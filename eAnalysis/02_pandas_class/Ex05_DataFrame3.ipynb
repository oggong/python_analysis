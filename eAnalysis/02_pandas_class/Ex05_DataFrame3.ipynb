{
 "cells": [
  {
   "cell_type": "markdown",
   "metadata": {},
   "source": [
    "##  데이타 분석\n",
    "\n",
    "데이타 -> 필터링 -> 정제 -> 시각화 -> 분석\n",
    "\n",
    "\n",
    "## 데이타 필터링\n",
    "\n",
    "분석에 필요한 데이타를 거르는 작업 ( 데이타 추출 )\n",
    "\n",
    "1. 열단위 추출 : df['컬럼명']\n",
    "\n",
    "2. 행단위 추출 : df.loc[인덱스명칭] / df.iloc[인덱스위치]\n",
    "\n",
    "    - loc[] : 명칭 기반 인덱싱\n",
    "    - iloc[] : 위치 기반 인덱싱\n",
    "    \n",
    "    현재 인덱스가 글자로 지정되지 않았기에 loc[]/iloc[] 모두 가능\n",
    "    \n",
    "\n",
    "        - loc과 iloc 차이\n",
    "            - df.loc[-1]  # 에러\n",
    "            - df.iloc[-1] # 마지막번호"
   ]
  },
  {
   "cell_type": "code",
   "execution_count": 3,
   "metadata": {},
   "outputs": [
    {
     "data": {
      "text/plain": [
       "President                    John Adams\n",
       "Years in office                       4\n",
       "Year first inaugurated             1797\n",
       "Age at inauguration                  61\n",
       "State elected from        Massachusetts\n",
       "# of electoral votes                132\n",
       "# of popular votes                 NA()\n",
       "National total votes               NA()\n",
       "Total electoral votes               139\n",
       "Rating points                       598\n",
       "Political Party              Federalist\n",
       "Occupation                       Lawyer\n",
       "College                         Harvard\n",
       "% electoral                      94.964\n",
       "% popular                          NA()\n",
       "Name: 1, dtype: object"
      ]
     },
     "execution_count": 3,
     "metadata": {},
     "output_type": "execute_result"
    }
   ],
   "source": [
    "# 데이타 추출\n",
    "\n",
    "import pandas as pd\n",
    "\n",
    "df = pd.read_excel('http://qrc.depaul.edu/excel_files/presidents.xlsx')\n",
    "\n",
    "# 1. 열단위 추출\n",
    "df.loc[1]\n"
   ]
  },
  {
   "cell_type": "code",
   "execution_count": 2,
   "metadata": {
    "scrolled": true
   },
   "outputs": [
    {
     "data": {
      "text/plain": [
       "' \\n    loc[] : 명칭 기반 인덱싱\\n    iloc[] : 위치 기반 인덱싱\\n    \\n    현재 인덱스가 글자로 지정되지 않았기에 loc[]/iloc[] 모두 가능\\n'"
      ]
     },
     "execution_count": 2,
     "metadata": {},
     "output_type": "execute_result"
    }
   ],
   "source": [
    "# 2. 행단위 추출\n",
    "\"\"\" \n",
    "    loc[] : 명칭 기반 인덱싱\n",
    "    iloc[] : 위치 기반 인덱싱\n",
    "    \n",
    "    현재 인덱스가 글자로 지정되지 않았기에 loc[]/iloc[] 모두 가능\n",
    "\"\"\"\n",
    "# (1) loc"
   ]
  },
  {
   "cell_type": "code",
   "execution_count": 3,
   "metadata": {},
   "outputs": [],
   "source": [
    "# (2) iloc\n"
   ]
  },
  {
   "cell_type": "markdown",
   "metadata": {},
   "source": [
    "마지막행의 데이타 추출"
   ]
  },
  {
   "cell_type": "code",
   "execution_count": 7,
   "metadata": {},
   "outputs": [
    {
     "data": {
      "text/plain": [
       "President           James K. Polk\n",
       "College      U. of North Carolina\n",
       "Name: 9, dtype: object"
      ]
     },
     "execution_count": 7,
     "metadata": {},
     "output_type": "execute_result"
    }
   ],
   "source": [
    "df.iloc[-1]"
   ]
  },
  {
   "cell_type": "code",
   "execution_count": 8,
   "metadata": {},
   "outputs": [
    {
     "data": {
      "text/plain": [
       "President           James K. Polk\n",
       "College      U. of North Carolina\n",
       "Name: 9, dtype: object"
      ]
     },
     "execution_count": 8,
     "metadata": {},
     "output_type": "execute_result"
    }
   ],
   "source": [
    "# df.shape\n",
    "total_of_rows = df.shape[0]\n",
    "df.loc[total_of_rows-1]"
   ]
  },
  {
   "cell_type": "markdown",
   "metadata": {},
   "source": [
    "행열 모두 지정하여 추출 \n",
    "\n",
    "- 초대 대통령 10명의 이름과 대학을 추출"
   ]
  },
  {
   "cell_type": "code",
   "execution_count": 6,
   "metadata": {
    "scrolled": true
   },
   "outputs": [
    {
     "data": {
      "text/html": [
       "<div>\n",
       "<style scoped>\n",
       "    .dataframe tbody tr th:only-of-type {\n",
       "        vertical-align: middle;\n",
       "    }\n",
       "\n",
       "    .dataframe tbody tr th {\n",
       "        vertical-align: top;\n",
       "    }\n",
       "\n",
       "    .dataframe thead th {\n",
       "        text-align: right;\n",
       "    }\n",
       "</style>\n",
       "<table border=\"1\" class=\"dataframe\">\n",
       "  <thead>\n",
       "    <tr style=\"text-align: right;\">\n",
       "      <th></th>\n",
       "      <th>President</th>\n",
       "      <th>College</th>\n",
       "    </tr>\n",
       "  </thead>\n",
       "  <tbody>\n",
       "    <tr>\n",
       "      <th>0</th>\n",
       "      <td>George Washington</td>\n",
       "      <td>None</td>\n",
       "    </tr>\n",
       "    <tr>\n",
       "      <th>1</th>\n",
       "      <td>John Adams</td>\n",
       "      <td>Harvard</td>\n",
       "    </tr>\n",
       "    <tr>\n",
       "      <th>2</th>\n",
       "      <td>Thomas Jefferson</td>\n",
       "      <td>William and Mary</td>\n",
       "    </tr>\n",
       "    <tr>\n",
       "      <th>3</th>\n",
       "      <td>James Madison</td>\n",
       "      <td>Princeton</td>\n",
       "    </tr>\n",
       "    <tr>\n",
       "      <th>4</th>\n",
       "      <td>James Monroe</td>\n",
       "      <td>William and Mary</td>\n",
       "    </tr>\n",
       "    <tr>\n",
       "      <th>5</th>\n",
       "      <td>John Quincy Adams</td>\n",
       "      <td>Harvard</td>\n",
       "    </tr>\n",
       "    <tr>\n",
       "      <th>6</th>\n",
       "      <td>Andrew Jackson</td>\n",
       "      <td>None</td>\n",
       "    </tr>\n",
       "    <tr>\n",
       "      <th>7</th>\n",
       "      <td>Martin Van Buren</td>\n",
       "      <td>None</td>\n",
       "    </tr>\n",
       "    <tr>\n",
       "      <th>8</th>\n",
       "      <td>William Henry Harrison</td>\n",
       "      <td>Hampden-Sydney</td>\n",
       "    </tr>\n",
       "    <tr>\n",
       "      <th>9</th>\n",
       "      <td>James K. Polk</td>\n",
       "      <td>U. of North Carolina</td>\n",
       "    </tr>\n",
       "  </tbody>\n",
       "</table>\n",
       "</div>"
      ],
      "text/plain": [
       "                President               College\n",
       "0       George Washington                  None\n",
       "1              John Adams               Harvard\n",
       "2        Thomas Jefferson      William and Mary\n",
       "3           James Madison             Princeton\n",
       "4            James Monroe      William and Mary\n",
       "5       John Quincy Adams               Harvard\n",
       "6          Andrew Jackson                  None\n",
       "7       Martin Van Buren                   None\n",
       "8  William Henry Harrison        Hampden-Sydney\n",
       "9           James K. Polk  U. of North Carolina"
      ]
     },
     "execution_count": 6,
     "metadata": {},
     "output_type": "execute_result"
    }
   ],
   "source": [
    "\n",
    "# (1) 초대 대통령 10명의 이름과 대학을 추출\n",
    "#     하지만 컬럼명을 기술하는 것을 권장\n",
    "df = df.iloc[0:10][['President','College']]\n",
    "df"
   ]
  },
  {
   "cell_type": "markdown",
   "metadata": {},
   "source": [
    "#### [ 결과 ]\n",
    "\n",
    "                President           College\n",
    "                \n",
    "    0      George Washington              None\n",
    "\n",
    "    1              John Adams           Harvard\n",
    "\n",
    "    2        Thomas Jefferson  William and Mary\n",
    "\n",
    "    3           James Madison         Princeton\n",
    "\n",
    "    4            James Monroe  William and Mary\n",
    "\n",
    "    5       John Quincy Adams           Harvard\n",
    "\n",
    "    6          Andrew Jackson              None\n",
    "\n",
    "    7       Martin Van Buren               None\n",
    "\n",
    "    8  William Henry Harrison    Hampden-Sydney\n"
   ]
  },
  {
   "cell_type": "markdown",
   "metadata": {},
   "source": [
    "### [추후] 미국대통령 데이타셋을 분석하고 정보를 도출하여 출력(시각화 권장)"
   ]
  }
 ],
 "metadata": {
  "kernelspec": {
   "display_name": "Python 3",
   "language": "python",
   "name": "python3"
  },
  "language_info": {
   "codemirror_mode": {
    "name": "ipython",
    "version": 3
   },
   "file_extension": ".py",
   "mimetype": "text/x-python",
   "name": "python",
   "nbconvert_exporter": "python",
   "pygments_lexer": "ipython3",
   "version": "3.7.3"
  }
 },
 "nbformat": 4,
 "nbformat_minor": 2
}
