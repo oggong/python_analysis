{
 "cells": [
  {
   "cell_type": "markdown",
   "metadata": {},
   "source": [
    "## 인터넷 상의 데이타 읽기\n",
    "\n",
    "1. Url 상의 csv 읽기 :  pandas.read_csv(url) \n",
    "\n",
    "2. 크롤링하여 읽기\n",
    "\n",
    "    ` requests / Selenium 라이브러리 활용\n",
    "    ` pandas.read_html(url, .. ) : 내부적으로 requests 라이브러리 사용\n",
    "    \n",
    "3. pandas-datareader 라이브러리\n",
    "\n",
    "    ` 내부적으로 requests 라이브러리 사용\n",
    "    ` 버전에 따라 오류 발생\n",
    "    ` Google Finance/Yahoo Finance 등에서 데이타 지원 -> 연결이 안될 수도 있음"
   ]
  },
  {
   "cell_type": "markdown",
   "metadata": {},
   "source": [
    "    [참고] Kosdaq 종목코드 CSV URL : https://goo.gl/3p3dSG\n",
    "\n",
    "        - https://gist.githubusercontent.com/allieus/5ce98166166d06ee9060e6a261e812dc/raw\n",
    "        - 위 주소를 pandas.read_csv(여기)에 붙이기\n",
    "\n",
    "    [참고] Kospi 종목코드 CSV URL : https://goo.gl/aUHznC\n",
    "\n",
    "        - https://gist.githubusercontent.com/allieus/733725662c644ab56c9db9d3cdf77ed1/raw"
   ]
  },
  {
   "cell_type": "code",
   "execution_count": 3,
   "metadata": {},
   "outputs": [
    {
     "data": {
      "text/html": [
       "<div>\n",
       "<style scoped>\n",
       "    .dataframe tbody tr th:only-of-type {\n",
       "        vertical-align: middle;\n",
       "    }\n",
       "\n",
       "    .dataframe tbody tr th {\n",
       "        vertical-align: top;\n",
       "    }\n",
       "\n",
       "    .dataframe thead th {\n",
       "        text-align: right;\n",
       "    }\n",
       "</style>\n",
       "<table border=\"1\" class=\"dataframe\">\n",
       "  <thead>\n",
       "    <tr style=\"text-align: right;\">\n",
       "      <th></th>\n",
       "      <th>종목명</th>\n",
       "      <th>종목코드</th>\n",
       "    </tr>\n",
       "  </thead>\n",
       "  <tbody>\n",
       "    <tr>\n",
       "      <th>763</th>\n",
       "      <td>CJ대한통운</td>\n",
       "      <td>120</td>\n",
       "    </tr>\n",
       "    <tr>\n",
       "      <th>764</th>\n",
       "      <td>메리츠화재</td>\n",
       "      <td>60</td>\n",
       "    </tr>\n",
       "    <tr>\n",
       "      <th>765</th>\n",
       "      <td>경방</td>\n",
       "      <td>50</td>\n",
       "    </tr>\n",
       "    <tr>\n",
       "      <th>766</th>\n",
       "      <td>유수홀딩스</td>\n",
       "      <td>700</td>\n",
       "    </tr>\n",
       "    <tr>\n",
       "      <th>767</th>\n",
       "      <td>한진중공업홀딩스</td>\n",
       "      <td>3480</td>\n",
       "    </tr>\n",
       "  </tbody>\n",
       "</table>\n",
       "</div>"
      ],
      "text/plain": [
       "          종목명  종목코드\n",
       "763    CJ대한통운   120\n",
       "764     메리츠화재    60\n",
       "765        경방    50\n",
       "766     유수홀딩스   700\n",
       "767  한진중공업홀딩스  3480"
      ]
     },
     "execution_count": 3,
     "metadata": {},
     "output_type": "execute_result"
    }
   ],
   "source": [
    "import pandas as pd\n",
    "\n",
    "\"\"\" (1) read_csv() \"\"\"\n",
    "\n",
    "df = pd.read_csv('https://gist.githubusercontent.com/allieus/733725662c644ab56c9db9d3cdf77ed1/raw')\n",
    "df\n",
    "df.head()\n",
    "df.tail()\n",
    "\n",
    "\n"
   ]
  },
  {
   "cell_type": "code",
   "execution_count": 2,
   "metadata": {},
   "outputs": [
    {
     "data": {
      "text/plain": [
       "' (2) pandas.read_html()\\n        ` 웹페이지 크롤링을 쉽게 도와주는 만능 라이브러리 X (아님)\\n        ` 웹 페이지 상의 HTML table을 한번에 로딩하기 위한 목적임\\n          그러나 데이터 외에 다른 문자열이 있으면 곤란\\n'"
      ]
     },
     "execution_count": 2,
     "metadata": {},
     "output_type": "execute_result"
    }
   ],
   "source": [
    "\"\"\" (2) pandas.read_html()\n",
    "        ` 웹페이지 크롤링을 쉽게 도와주는 만능 라이브러리 X (아님)\n",
    "        ` 웹 페이지 상의 HTML table을 한번에 로딩하기 위한 목적임\n",
    "          그러나 데이터 외에 다른 문자열이 있으면 곤란\n",
    "\"\"\"\n",
    "\n",
    "# 한국천문연구원 > 생활천문관 > 월별 음양력\n",
    "# https://astro.kasi.re.kr/life/pageView/5\n"
   ]
  },
  {
   "cell_type": "code",
   "execution_count": null,
   "metadata": {},
   "outputs": [],
   "source": []
  },
  {
   "cell_type": "code",
   "execution_count": 4,
   "metadata": {},
   "outputs": [
    {
     "name": "stdout",
     "output_type": "stream",
     "text": [
      "Collecting pandas-datareader\n",
      "  Downloading https://files.pythonhosted.org/packages/d1/db/c6c72242179251ed9ead7af852296ae9558b1d0cfd972eef6c3398b131d1/pandas_datareader-0.7.4-py2.py3-none-any.whl (113kB)\n",
      "Requirement already satisfied, skipping upgrade: requests>=2.3.0 in c:\\programdata\\anaconda3\\lib\\site-packages (from pandas-datareader) (2.22.0)\n",
      "Requirement already satisfied, skipping upgrade: pandas>=0.19.2 in c:\\programdata\\anaconda3\\lib\\site-packages (from pandas-datareader) (0.24.2)\n",
      "Requirement already satisfied, skipping upgrade: wrapt in c:\\programdata\\anaconda3\\lib\\site-packages (from pandas-datareader) (1.11.2)\n",
      "Requirement already satisfied, skipping upgrade: lxml in c:\\programdata\\anaconda3\\lib\\site-packages (from pandas-datareader) (4.3.4)\n",
      "Requirement already satisfied, skipping upgrade: idna<2.9,>=2.5 in c:\\programdata\\anaconda3\\lib\\site-packages (from requests>=2.3.0->pandas-datareader) (2.8)\n",
      "Requirement already satisfied, skipping upgrade: chardet<3.1.0,>=3.0.2 in c:\\programdata\\anaconda3\\lib\\site-packages (from requests>=2.3.0->pandas-datareader) (3.0.4)\n",
      "Requirement already satisfied, skipping upgrade: urllib3!=1.25.0,!=1.25.1,<1.26,>=1.21.1 in c:\\programdata\\anaconda3\\lib\\site-packages (from requests>=2.3.0->pandas-datareader) (1.24.2)\n",
      "Requirement already satisfied, skipping upgrade: certifi>=2017.4.17 in c:\\programdata\\anaconda3\\lib\\site-packages (from requests>=2.3.0->pandas-datareader) (2019.6.16)\n",
      "Requirement already satisfied, skipping upgrade: pytz>=2011k in c:\\programdata\\anaconda3\\lib\\site-packages (from pandas>=0.19.2->pandas-datareader) (2019.1)\n",
      "Requirement already satisfied, skipping upgrade: python-dateutil>=2.5.0 in c:\\programdata\\anaconda3\\lib\\site-packages (from pandas>=0.19.2->pandas-datareader) (2.8.0)\n",
      "Requirement already satisfied, skipping upgrade: numpy>=1.12.0 in c:\\programdata\\anaconda3\\lib\\site-packages (from pandas>=0.19.2->pandas-datareader) (1.16.4)\n",
      "Requirement already satisfied, skipping upgrade: six>=1.5 in c:\\programdata\\anaconda3\\lib\\site-packages (from python-dateutil>=2.5.0->pandas>=0.19.2->pandas-datareader) (1.12.0)\n",
      "Installing collected packages: pandas-datareader\n",
      "Successfully installed pandas-datareader-0.7.4\n"
     ]
    }
   ],
   "source": [
    "\"\"\" (3) pandas-datareader 라이브러리 \n",
    "        ` 설치 필요\n",
    "        ` 최신버전 업그레이드 필수\n",
    "        ` pip install --upgrade pandas-datareader\n",
    "        ` Anaconda Prompt에서 확인 가능(반드시 관리자 권한으로 실행) : conda install pandas-datareader\n",
    "        ` Jupyter 에서 !pip install --upgrade pandas-datareader\n",
    "\"\"\"\n",
    "!pip install --upgrade pandas-datareader"
   ]
  },
  {
   "cell_type": "code",
   "execution_count": 6,
   "metadata": {},
   "outputs": [
    {
     "data": {
      "text/plain": [
       "pandas.core.frame.DataFrame"
      ]
     },
     "execution_count": 6,
     "metadata": {},
     "output_type": "execute_result"
    }
   ],
   "source": [
    "import pandas_datareader as pdr\n",
    "\n",
    "df= pdr.get_data_yahoo('035420.KS','2019-08-01','2019-08-31')\n",
    "type(df)"
   ]
  },
  {
   "cell_type": "code",
   "execution_count": null,
   "metadata": {},
   "outputs": [],
   "source": []
  },
  {
   "cell_type": "code",
   "execution_count": null,
   "metadata": {},
   "outputs": [],
   "source": []
  },
  {
   "cell_type": "code",
   "execution_count": null,
   "metadata": {},
   "outputs": [],
   "source": []
  },
  {
   "cell_type": "code",
   "execution_count": null,
   "metadata": {},
   "outputs": [],
   "source": []
  },
  {
   "cell_type": "code",
   "execution_count": null,
   "metadata": {},
   "outputs": [],
   "source": []
  }
 ],
 "metadata": {
  "kernelspec": {
   "display_name": "Python 3",
   "language": "python",
   "name": "python3"
  },
  "language_info": {
   "codemirror_mode": {
    "name": "ipython",
    "version": 3
   },
   "file_extension": ".py",
   "mimetype": "text/x-python",
   "name": "python",
   "nbconvert_exporter": "python",
   "pygments_lexer": "ipython3",
   "version": "3.7.3"
  }
 },
 "nbformat": 4,
 "nbformat_minor": 2
}
