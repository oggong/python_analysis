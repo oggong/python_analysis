{
 "cells": [
  {
   "cell_type": "code",
   "execution_count": 1,
   "metadata": {},
   "outputs": [
    {
     "data": {
      "text/html": [
       "<div>\n",
       "<style scoped>\n",
       "    .dataframe tbody tr th:only-of-type {\n",
       "        vertical-align: middle;\n",
       "    }\n",
       "\n",
       "    .dataframe tbody tr th {\n",
       "        vertical-align: top;\n",
       "    }\n",
       "\n",
       "    .dataframe thead th {\n",
       "        text-align: right;\n",
       "    }\n",
       "</style>\n",
       "<table border=\"1\" class=\"dataframe\">\n",
       "  <thead>\n",
       "    <tr style=\"text-align: right;\">\n",
       "      <th></th>\n",
       "      <th>total_bill</th>\n",
       "      <th>tip</th>\n",
       "      <th>sex</th>\n",
       "      <th>smoker</th>\n",
       "      <th>day</th>\n",
       "      <th>time</th>\n",
       "      <th>size</th>\n",
       "    </tr>\n",
       "  </thead>\n",
       "  <tbody>\n",
       "    <tr>\n",
       "      <th>0</th>\n",
       "      <td>16.99</td>\n",
       "      <td>1.01</td>\n",
       "      <td>Female</td>\n",
       "      <td>No</td>\n",
       "      <td>Sun</td>\n",
       "      <td>Dinner</td>\n",
       "      <td>2</td>\n",
       "    </tr>\n",
       "    <tr>\n",
       "      <th>1</th>\n",
       "      <td>10.34</td>\n",
       "      <td>1.66</td>\n",
       "      <td>Male</td>\n",
       "      <td>No</td>\n",
       "      <td>Sun</td>\n",
       "      <td>Dinner</td>\n",
       "      <td>3</td>\n",
       "    </tr>\n",
       "    <tr>\n",
       "      <th>2</th>\n",
       "      <td>21.01</td>\n",
       "      <td>3.50</td>\n",
       "      <td>Male</td>\n",
       "      <td>No</td>\n",
       "      <td>Sun</td>\n",
       "      <td>Dinner</td>\n",
       "      <td>3</td>\n",
       "    </tr>\n",
       "    <tr>\n",
       "      <th>3</th>\n",
       "      <td>23.68</td>\n",
       "      <td>3.31</td>\n",
       "      <td>Male</td>\n",
       "      <td>No</td>\n",
       "      <td>Sun</td>\n",
       "      <td>Dinner</td>\n",
       "      <td>2</td>\n",
       "    </tr>\n",
       "    <tr>\n",
       "      <th>4</th>\n",
       "      <td>24.59</td>\n",
       "      <td>3.61</td>\n",
       "      <td>Female</td>\n",
       "      <td>No</td>\n",
       "      <td>Sun</td>\n",
       "      <td>Dinner</td>\n",
       "      <td>4</td>\n",
       "    </tr>\n",
       "  </tbody>\n",
       "</table>\n",
       "</div>"
      ],
      "text/plain": [
       "   total_bill   tip     sex smoker  day    time  size\n",
       "0       16.99  1.01  Female     No  Sun  Dinner     2\n",
       "1       10.34  1.66    Male     No  Sun  Dinner     3\n",
       "2       21.01  3.50    Male     No  Sun  Dinner     3\n",
       "3       23.68  3.31    Male     No  Sun  Dinner     2\n",
       "4       24.59  3.61  Female     No  Sun  Dinner     4"
      ]
     },
     "execution_count": 1,
     "metadata": {},
     "output_type": "execute_result"
    }
   ],
   "source": [
    "import seaborn                   # 데이타\n",
    "import matplotlib.pyplot as plt  # 그래프 라이브러리\n",
    "\n",
    "tips = seaborn.load_dataset('tips') # 팁을 지불한 손님의 정보 데이타\n",
    "tips.head()   # 지불금액 / 팁 / 성별 / 흡연 / 요일 / 시간대 / 인원수"
   ]
  },
  {
   "cell_type": "code",
   "execution_count": 2,
   "metadata": {},
   "outputs": [],
   "source": [
    "# 한글처리\n",
    "# 한글등록 (어려운)\n",
    "from matplotlib import font_manager, rc  # rc : resource\n",
    "\n",
    "# 추가설정 - 폰트를 변경하면 -표시가 ㅁ으로 변경되기에 '-'를 변경하지 않도록 지정\n",
    "plt.rcParams['axes.unicode_minus']=False \n",
    "\n",
    "fong_loc = \"c:/Windows/Fonts/malgun.ttf\" # 글꼴 경로\n",
    "font_name = font_manager.FontProperties(fname=fong_loc).get_name()\n",
    "# print(font_name) # 폰트매니저를 통해 인식하고 있는 글꼴 이름을 가져온다\n",
    "rc('font', family=font_name) # 리소스에 글꼴을 등록\n"
   ]
  },
  {
   "cell_type": "markdown",
   "metadata": {},
   "source": [
    "## 1. 일변량 그래프 - 하나의 변수만 사용한 그래프 (*) 히스토그램\n",
    "\n",
    "  [예] 전체지불금액(total_bill)에 대한 그래프\n",
    "  \n",
    "  - 막대 그래프(범주 변수: 카테고리 / 성별)\n",
    "  - 히스토그램(수치변수: 온도 / 나이)\n",
    "      "
   ]
  },
  {
   "cell_type": "code",
   "execution_count": 9,
   "metadata": {},
   "outputs": [
    {
     "data": {
      "text/plain": [
       "Text(0, 0.5, '지불금액')"
      ]
     },
     "execution_count": 9,
     "metadata": {},
     "output_type": "execute_result"
    },
    {
     "data": {
      "image/png": "[encoded data removed]",
      "text/plain": [
       "<Figure size 432x288 with 1 Axes>"
      ]
     },
     "metadata": {
      "needs_background": "light"
     },
     "output_type": "display_data"
    }
   ],
   "source": [
    "## 여기에 코드\n",
    "plt.hist(tips['total_bill'],color='skyblue')\n",
    "plt.title('total_bill')\n",
    "plt.xlabel('빈도수')\n",
    "plt.ylabel('지불금액')\n",
    "\n"
   ]
  },
  {
   "cell_type": "markdown",
   "metadata": {},
   "source": [
    "##  2. 이변량 그래프 - 변수 2개를 이용한 그래프 ( 산점도 그래프 )\n",
    "    [예] 지불금액에 따른 팁 금액을 나타내는 그래프"
   ]
  },
  {
   "cell_type": "code",
   "execution_count": 11,
   "metadata": {},
   "outputs": [
    {
     "data": {
      "text/plain": [
       "<matplotlib.collections.PathCollection at 0x1714d9d53c8>"
      ]
     },
     "execution_count": 11,
     "metadata": {},
     "output_type": "execute_result"
    },
    {
     "data": {
      "image/png": "[encoded data removed]",
      "text/plain": [
       "<Figure size 432x288 with 1 Axes>"
      ]
     },
     "metadata": {
      "needs_background": "light"
     },
     "output_type": "display_data"
    }
   ],
   "source": [
    "# 여기에 코드\n",
    "plt.scatter(tips['total_bill'],tips['tip'])\n"
   ]
  },
  {
   "cell_type": "markdown",
   "metadata": {},
   "source": [
    "## 3. 이산형 변수와 연속형 변수 - 박스플롯\n",
    "    이산형 - 성별이나 국적처럼 명확하게 구분되는 값\n",
    "    연속형 - 수치로 이루어진 값\n",
    "\n",
    "    [예] 성별에 따른 팁을 나타내는 그래프"
   ]
  },
  {
   "cell_type": "code",
   "execution_count": 15,
   "metadata": {
    "scrolled": true
   },
   "outputs": [
    {
     "data": {
      "text/plain": [
       "{'whiskers': [<matplotlib.lines.Line2D at 0x1714db42518>,\n",
       "  <matplotlib.lines.Line2D at 0x1714db42860>,\n",
       "  <matplotlib.lines.Line2D at 0x1714db4ac50>,\n",
       "  <matplotlib.lines.Line2D at 0x1714db4af98>],\n",
       " 'caps': [<matplotlib.lines.Line2D at 0x1714db42ba8>,\n",
       "  <matplotlib.lines.Line2D at 0x1714db42ef0>,\n",
       "  <matplotlib.lines.Line2D at 0x1714db4af28>,\n",
       "  <matplotlib.lines.Line2D at 0x1714db57668>],\n",
       " 'boxes': [<matplotlib.lines.Line2D at 0x1714db420f0>,\n",
       "  <matplotlib.lines.Line2D at 0x1714db4a908>],\n",
       " 'medians': [<matplotlib.lines.Line2D at 0x1714db42fd0>,\n",
       "  <matplotlib.lines.Line2D at 0x1714db579b0>],\n",
       " 'fliers': [<matplotlib.lines.Line2D at 0x1714db4a5c0>,\n",
       "  <matplotlib.lines.Line2D at 0x1714db57cf8>],\n",
       " 'means': []}"
      ]
     },
     "execution_count": 15,
     "metadata": {},
     "output_type": "execute_result"
    },
    {
     "data": {
      "image/png": "[encoded data removed]",
      "text/plain": [
       "<Figure size 432x288 with 1 Axes>"
      ]
     },
     "metadata": {
      "needs_background": "light"
     },
     "output_type": "display_data"
    }
   ],
   "source": [
    "# 여기에 코드\n",
    "female = tips[tips['sex']=='Female']['tip']\n",
    "male = tips[tips['sex']=='Male']['tip']\n",
    "plt.boxplot([female,male],labels=['여자','남자'])\n",
    "\n"
   ]
  },
  {
   "cell_type": "markdown",
   "metadata": {},
   "source": [
    "##  4. 다변량 그래프 - 3개 이상의 변수로 그래프 - 산점도 그래프\n",
    "\n",
    "      [예] 식사지불과 팁의 정도를 성별에 따라 그래프를 그린다면?\n",
    "      \n",
    "      * 성별의 문자열값을 0과 1로 변경하여 다른 색상으로 그리고자 한다"
   ]
  },
  {
   "cell_type": "code",
   "execution_count": 20,
   "metadata": {
    "scrolled": true
   },
   "outputs": [
    {
     "data": {
      "text/plain": [
       "<matplotlib.collections.PathCollection at 0x1714dd3dd30>"
      ]
     },
     "execution_count": 20,
     "metadata": {},
     "output_type": "execute_result"
    },
    {
     "data": {
      "image/png": "[encoded data removed]",
      "text/plain": [
       "<Figure size 432x288 with 1 Axes>"
      ]
     },
     "metadata": {
      "needs_background": "light"
     },
     "output_type": "display_data"
    }
   ],
   "source": [
    "# (1) 성별을 0과 1로 변환하는 함수 선언\n",
    "female = tips[tips['sex']=='Female'][['total_bill','tip']]\n",
    "male = tips[tips['sex']=='Male'][['total_bill','tip']]\n",
    "\n",
    "plt.scatter(female['total_bill'],female['tip'],label=\"여자\")\n",
    "plt.scatter(male['total_bill'],male['tip'],label=\"남자\")\n",
    "\n",
    "\n",
    "# (2) 변경한 성별값의 변수(컬럼 sex_color) 추가\n",
    "\n",
    "\n",
    "# (3) 그래프 : x와 y 축, c=점의 색상, alpha=점의 투명도, s=점의 크기\n",
    "#    테이블당의 인원수를 점의 크기로 표현한다면 s=tips['size']*10 추가\n"
   ]
  },
  {
   "cell_type": "code",
   "execution_count": 21,
   "metadata": {},
   "outputs": [
    {
     "data": {
      "text/html": [
       "<div>\n",
       "<style scoped>\n",
       "    .dataframe tbody tr th:only-of-type {\n",
       "        vertical-align: middle;\n",
       "    }\n",
       "\n",
       "    .dataframe tbody tr th {\n",
       "        vertical-align: top;\n",
       "    }\n",
       "\n",
       "    .dataframe thead th {\n",
       "        text-align: right;\n",
       "    }\n",
       "</style>\n",
       "<table border=\"1\" class=\"dataframe\">\n",
       "  <thead>\n",
       "    <tr style=\"text-align: right;\">\n",
       "      <th></th>\n",
       "      <th>total_bill</th>\n",
       "      <th>tip</th>\n",
       "      <th>sex</th>\n",
       "      <th>smoker</th>\n",
       "      <th>day</th>\n",
       "      <th>time</th>\n",
       "      <th>size</th>\n",
       "      <th>sex_color</th>\n",
       "    </tr>\n",
       "  </thead>\n",
       "  <tbody>\n",
       "    <tr>\n",
       "      <th>0</th>\n",
       "      <td>16.99</td>\n",
       "      <td>1.01</td>\n",
       "      <td>Female</td>\n",
       "      <td>No</td>\n",
       "      <td>Sun</td>\n",
       "      <td>Dinner</td>\n",
       "      <td>2</td>\n",
       "      <td>0</td>\n",
       "    </tr>\n",
       "    <tr>\n",
       "      <th>1</th>\n",
       "      <td>10.34</td>\n",
       "      <td>1.66</td>\n",
       "      <td>Male</td>\n",
       "      <td>No</td>\n",
       "      <td>Sun</td>\n",
       "      <td>Dinner</td>\n",
       "      <td>3</td>\n",
       "      <td>1</td>\n",
       "    </tr>\n",
       "    <tr>\n",
       "      <th>2</th>\n",
       "      <td>21.01</td>\n",
       "      <td>3.50</td>\n",
       "      <td>Male</td>\n",
       "      <td>No</td>\n",
       "      <td>Sun</td>\n",
       "      <td>Dinner</td>\n",
       "      <td>3</td>\n",
       "      <td>1</td>\n",
       "    </tr>\n",
       "    <tr>\n",
       "      <th>3</th>\n",
       "      <td>23.68</td>\n",
       "      <td>3.31</td>\n",
       "      <td>Male</td>\n",
       "      <td>No</td>\n",
       "      <td>Sun</td>\n",
       "      <td>Dinner</td>\n",
       "      <td>2</td>\n",
       "      <td>1</td>\n",
       "    </tr>\n",
       "    <tr>\n",
       "      <th>4</th>\n",
       "      <td>24.59</td>\n",
       "      <td>3.61</td>\n",
       "      <td>Female</td>\n",
       "      <td>No</td>\n",
       "      <td>Sun</td>\n",
       "      <td>Dinner</td>\n",
       "      <td>4</td>\n",
       "      <td>0</td>\n",
       "    </tr>\n",
       "  </tbody>\n",
       "</table>\n",
       "</div>"
      ],
      "text/plain": [
       "   total_bill   tip     sex smoker  day    time  size  sex_color\n",
       "0       16.99  1.01  Female     No  Sun  Dinner     2          0\n",
       "1       10.34  1.66    Male     No  Sun  Dinner     3          1\n",
       "2       21.01  3.50    Male     No  Sun  Dinner     3          1\n",
       "3       23.68  3.31    Male     No  Sun  Dinner     2          1\n",
       "4       24.59  3.61  Female     No  Sun  Dinner     4          0"
      ]
     },
     "execution_count": 21,
     "metadata": {},
     "output_type": "execute_result"
    }
   ],
   "source": [
    "import numpy as np\n",
    "\n",
    "tips['sex_color'] = np.where(tips['sex']=='Female', 0, 1)\n",
    "tips.head()"
   ]
  },
  {
   "cell_type": "markdown",
   "metadata": {},
   "source": [
    "[ 참고 ]  plt.scatter와 plt.plot 정리\n"
   ]
  }
 ],
 "metadata": {
  "kernelspec": {
   "display_name": "Python 3",
   "language": "python",
   "name": "python3"
  },
  "language_info": {
   "codemirror_mode": {
    "name": "ipython",
    "version": 3
   },
   "file_extension": ".py",
   "mimetype": "text/x-python",
   "name": "python",
   "nbconvert_exporter": "python",
   "pygments_lexer": "ipython3",
   "version": "3.7.3"
  }
 },
 "nbformat": 4,
 "nbformat_minor": 2
}
