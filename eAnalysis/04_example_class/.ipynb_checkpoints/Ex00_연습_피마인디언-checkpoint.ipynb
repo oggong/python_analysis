{
 "cells": [
  {
   "cell_type": "markdown",
   "metadata": {},
   "source": [
    "###  UCI 저장소에서 제공하는 피마인디언 데이타\n",
    "\n",
    "- 1950년대까지 비만인이 없던 피마인디언 부족\n",
    "\n",
    "- 그러나 페스트푸드 문화와 더불어 지금은 전체 부족의 60%가 당뇨이고 80%가 비만이다\n",
    "\n",
    "\n",
    "- 샘플수(레코드) : 768\n",
    "- 속성 : 8\n",
    "        - 정보1 (pregnant) : 과거 임신 횟수\n",
    "        - 정보2 (plasma) : 포도당 부하 검사 2시간 후 공복 혈당 농도 (mm Hg)\n",
    "        - 정보3 (pressure) : 혈압(mm Hg)\n",
    "        - 정보4 (thickness) :삼두근 피부 주름 두께(mm)\n",
    "        - 정보5 (insulin) : 혈청 인슐린 (2hour, mu U/ml)\n",
    "        - 정보6 (BMI) : 체질량지수  weight(kg)/(height(m)*height(m))\n",
    "        - 정보7 (pedigree) : 당뇨병 가족력\n",
    "        - 정보8 (age) : 나이\n",
    "        \n",
    "- 클래스 : 당뇨 (1:당뇨 / 0:당뇨아님)      "
   ]
  },
  {
   "cell_type": "code",
   "execution_count": null,
   "metadata": {},
   "outputs": [],
   "source": [
    "# pima-indians-diabetes.csv 파일을 데이타프레임으로 로딩하면서 컬럼명도 지정\n",
    "\n",
    "import pandas as pd\n",
    "\n",
    "df = pd.read_csv('../dataset/pima-indians-diabetes.csv', names='')"
   ]
  },
  {
   "cell_type": "code",
   "execution_count": null,
   "metadata": {},
   "outputs": [],
   "source": []
  },
  {
   "cell_type": "code",
   "execution_count": null,
   "metadata": {},
   "outputs": [],
   "source": []
  },
  {
   "cell_type": "code",
   "execution_count": null,
   "metadata": {},
   "outputs": [],
   "source": []
  },
  {
   "cell_type": "code",
   "execution_count": null,
   "metadata": {},
   "outputs": [],
   "source": []
  }
 ],
 "metadata": {
  "kernelspec": {
   "display_name": "Python 3",
   "language": "python",
   "name": "python3"
  },
  "language_info": {
   "codemirror_mode": {
    "name": "ipython",
    "version": 3
   },
   "file_extension": ".py",
   "mimetype": "text/x-python",
   "name": "python",
   "nbconvert_exporter": "python",
   "pygments_lexer": "ipython3",
   "version": "3.7.3"
  }
 },
 "nbformat": 4,
 "nbformat_minor": 2
}
