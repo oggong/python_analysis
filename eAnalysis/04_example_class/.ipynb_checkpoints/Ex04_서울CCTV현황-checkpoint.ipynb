{
 "cells": [
  {
   "cell_type": "markdown",
   "metadata": {},
   "source": [
    "[예제] 파이썬의 데이타 주무르기\n",
    "\n",
    "\n",
    "## 서울시 자치구 인구대비 CCTV 현황\n",
    "\n",
    "1. 서울시 자치구 연도별 CCTV 현황\n",
    "\n",
    "    서울열린데이타 : https://data.seoul.go.kr 에서 cctv 검색하여 csv 파일 다운로드\n",
    "    \n",
    "\n",
    "2. 서울시 주민등록인구 (구별) 통계\n",
    "\n",
    "    서울열린데이타 : https://data.seoul.go.kr > 인구 > XLS 파일 다운로드"
   ]
  },
  {
   "cell_type": "markdown",
   "metadata": {},
   "source": [
    "## 1. 서울시 자치구 연도별 CCTV 현황"
   ]
  },
  {
   "cell_type": "code",
   "execution_count": 1,
   "metadata": {
    "scrolled": true
   },
   "outputs": [],
   "source": [
    "# 1. 데이타 살펴보기\n",
    "\n",
    "import pandas as pd\n",
    "\n",
    "\"\"\" 1. 서울시 자치구 연도별 CCTV 현황 \"\"\"\n",
    "cctvSeoul = pd.read_csv('./data/cctv_in_seoul.csv',encoding='utf-8')\n",
    "\n",
    "# (1) CCTV가 많은 순으로 정렬하여 상위 5위 \n",
    "\n",
    "\n",
    "\n",
    "# (2) 2014~2016년 3년간 CCTV 증가율을 추가\n",
    "#     3년동안의 증가율 = ( 2014년 + 2015년 + 2016년 ) / 2013년도 이전 * 100\n",
    "#     3년간 증가율 높은 순으로 출력\n"
   ]
  },
  {
   "attachments": {},
   "cell_type": "markdown",
   "metadata": {},
   "source": [
    "## 2. 서울시 주민등록인구 (구별) 통계\n",
    "\n",
    "[ 파일읽기 ]  \n",
    "\n",
    "popsSeoul = pd.read_excel('./dataset/pops_in_seoul.xls')\n",
    "\n",
    "수정하고 데이타 정리\n",
    "\n",
    "---\n",
    "[ 출력결과 ]  popsSeoul.head(5)\n",
    "\n",
    "<img src='images/그림1.PNG' width='80%' height='100'>"
   ]
  },
  {
   "cell_type": "code",
   "execution_count": null,
   "metadata": {},
   "outputs": [],
   "source": [
    "\n"
   ]
  },
  {
   "cell_type": "markdown",
   "metadata": {},
   "source": [
    "##  3. 두 데이타프레임을 합치고 분석\n",
    "\n",
    "    (1) 두 데이타프레임의 행과 열의 수 확인\n",
    "    \n",
    "        > cctvSeoul.shape\n",
    "        \n",
    "        > popsSeoul.shape\n",
    "\n",
    "    (2) 연결 ( mergy 함수  )\n",
    "        먼저 합치고 필요한 컬럼을 추출하기보단\n",
    "        각각 필요한 컬럼을 추리고 나서 합치는 것을 권장\n",
    "        \n",
    "        \n",
    "---        \n",
    "[ 출력결과 ]\n",
    "\n",
    "<img src='images/그림2.PNG'>"
   ]
  },
  {
   "cell_type": "code",
   "execution_count": null,
   "metadata": {},
   "outputs": [],
   "source": [
    "\n",
    "\n"
   ]
  },
  {
   "cell_type": "markdown",
   "metadata": {},
   "source": [
    "## 4. 분석하기 \n",
    "\n",
    "        외국인비율, 고령자비율, 인구수와 CCTV 수와 상관있나?\n",
    "        "
   ]
  },
  {
   "cell_type": "code",
   "execution_count": 2,
   "metadata": {},
   "outputs": [],
   "source": [
    "\"\"\" 4. 분석하기 \n",
    "        외국인비율, 고령자비율, 인구수와 CCTV 수와 상관있나?\n",
    "        \n",
    "        상관계수로 확인 : numpy.corrcoef()\n",
    "            0.1이하 상관없음\n",
    "            0.3이하 약한 상관관계\n",
    "            0.7이하 뚜렷한 상관관계\n",
    "\"\"\"\n",
    "import numpy as np\n",
    "\n",
    "# print( np.corrcoef(result['소계'], result['외국인비율']) )\n",
    "# print( np.corrcoef(result['소계'], result['고령자비율']) )\n",
    "# print( np.corrcoef(result['소계'], result['인구수']) )\n",
    "\n"
   ]
  },
  {
   "cell_type": "markdown",
   "metadata": {},
   "source": [
    "## 5. 시각화로 분석을 보여주기"
   ]
  },
  {
   "cell_type": "code",
   "execution_count": null,
   "metadata": {},
   "outputs": [],
   "source": [
    "\n",
    "\n"
   ]
  },
  {
   "cell_type": "markdown",
   "metadata": {},
   "source": [
    "## 추가적으로 분석을 하여 결과 도출"
   ]
  },
  {
   "cell_type": "code",
   "execution_count": null,
   "metadata": {},
   "outputs": [],
   "source": []
  }
 ],
 "metadata": {
  "kernelspec": {
   "display_name": "Python 3",
   "language": "python",
   "name": "python3"
  },
  "language_info": {
   "codemirror_mode": {
    "name": "ipython",
    "version": 3
   },
   "file_extension": ".py",
   "mimetype": "text/x-python",
   "name": "python",
   "nbconvert_exporter": "python",
   "pygments_lexer": "ipython3",
   "version": "3.7.3"
  }
 },
 "nbformat": 4,
 "nbformat_minor": 2
}
