{
 "cells": [
  {
   "cell_type": "code",
   "execution_count": 2,
   "metadata": {},
   "outputs": [
    {
     "name": "stdout",
     "output_type": "stream",
     "text": [
      "    name    lat    long\n",
      "0   DR-1 -49.85 -128.57\n",
      "1   DR-3 -47.15 -126.72\n",
      "2  MSK-4 -48.87 -123.40\n",
      "   ident   site       dated\n",
      "0    619   DR-1  1927-02-08\n",
      "1    622   DR-1  1927-02-10\n",
      "2    734   DR-3  1939-01-07\n",
      "3    735   DR-3  1930-01-12\n",
      "4    751   DR-3  1930-02-26\n",
      "5    752   DR-3         NaN\n",
      "6    837  MSK-4  1932-01-14\n",
      "7    844   DR-1  1932-03-22\n"
     ]
    }
   ],
   "source": [
    "import pandas as pd\n",
    "\n",
    "# 1. 데이타 가져오기\n",
    "person = pd.read_csv('./data/survey_person.csv')\n",
    "# print(person)\n",
    "site = pd.read_csv('./data/survey_site.csv')\n",
    "print(site)\n",
    "survey = pd.read_csv('./data/survey_survey.csv')\n",
    "# print(survey)\n",
    "visited = pd.read_csv('./data/survey_visited.csv')\n",
    "print(visited)"
   ]
  },
  {
   "cell_type": "code",
   "execution_count": 9,
   "metadata": {
    "collapsed": true
   },
   "outputs": [
    {
     "name": "stdout",
     "output_type": "stream",
     "text": [
      "      ident   personal    family  ident   site       dated\n",
      "0      dyer    William      Dyer    619   DR-1  1927-02-08\n",
      "1        pb      Frank   Pabodie    622   DR-1  1927-02-10\n",
      "2      lake   Anderson      Lake    734   DR-3  1939-01-07\n",
      "3       roe  Valentina   Roerich    735   DR-3  1930-01-12\n",
      "4  danforth      Frank  Danforth    751   DR-3  1930-02-26\n",
      "5       NaN        NaN       NaN    752   DR-3         NaN\n",
      "6       NaN        NaN       NaN    837  MSK-4  1932-01-14\n",
      "7       NaN        NaN       NaN    844   DR-1  1932-03-22\n",
      "        dated    family     ident   personal   site\n",
      "0         NaN      Dyer      dyer    William    NaN\n",
      "1         NaN   Pabodie        pb      Frank    NaN\n",
      "2         NaN      Lake      lake   Anderson    NaN\n",
      "3         NaN   Roerich       roe  Valentina    NaN\n",
      "4         NaN  Danforth  danforth      Frank    NaN\n",
      "0  1927-02-08       NaN       619        NaN   DR-1\n",
      "1  1927-02-10       NaN       622        NaN   DR-1\n",
      "2  1939-01-07       NaN       734        NaN   DR-3\n",
      "3  1930-01-12       NaN       735        NaN   DR-3\n",
      "4  1930-02-26       NaN       751        NaN   DR-3\n",
      "5         NaN       NaN       752        NaN   DR-3\n",
      "6  1932-01-14       NaN       837        NaN  MSK-4\n",
      "7  1932-03-22       NaN       844        NaN   DR-1\n"
     ]
    },
    {
     "name": "stderr",
     "output_type": "stream",
     "text": [
      "C:\\ProgramData\\Anaconda3\\lib\\site-packages\\ipykernel_launcher.py:19: FutureWarning: Sorting because non-concatenation axis is not aligned. A future version\n",
      "of pandas will change to not sort by default.\n",
      "\n",
      "To accept the future behavior, pass 'sort=False'.\n",
      "\n",
      "To retain the current behavior and silence the warning, pass 'sort=True'.\n",
      "\n"
     ]
    }
   ],
   "source": [
    "# 2. 데이타 연결하기\n",
    "# (1) concat 메소드 연결\n",
    "\n",
    "redata = pd.concat([site, visited])\n",
    "print(redata)\n",
    "# [결과확인] 해당행과 해당열 연결\n",
    "\n",
    "# 만일 동일한 컬럼이 있다면 \n",
    "redata = pd.concat([person, visited])\n",
    "print(redata)\n",
    "# [결과확인] 동일 컬럼을 하나로 되고 인덱스가 각자 고유의 인덱스를 가진다\n",
    "#          인덱스를 다시 지정 하려면: ignore_index=True\n",
    "#          공통열만 고른다면: join='inner'\n",
    "\n",
    "# 열방향으로 데이터 연결\n",
    "# redata = pd.concat([person, visited], axis=1)\n",
    "# print(redata)\n",
    "\n",
    "# 행방향으로 연결 - 기존연결이 행방향이기에 결과 동일\n",
    "# redata = pd.concat([person, visited], axis=0)\n",
    "# print(redata)"
   ]
  },
  {
   "cell_type": "code",
   "execution_count": 5,
   "metadata": {},
   "outputs": [
    {
     "name": "stdout",
     "output_type": "stream",
     "text": [
      "   ident   personal   family  taken person quant  reading\n",
      "0   dyer    William     Dyer    619   dyer   rad     9.82\n",
      "1   dyer    William     Dyer    619   dyer   sal     0.13\n",
      "2   dyer    William     Dyer    622   dyer   rad     7.80\n",
      "3   dyer    William     Dyer    622   dyer   sal     0.09\n",
      "4     pb      Frank  Pabodie    734     pb   rad     8.41\n",
      "5     pb      Frank  Pabodie    734     pb  temp   -21.50\n",
      "6     pb      Frank  Pabodie    735     pb   rad     7.22\n",
      "7     pb      Frank  Pabodie    751     pb   rad     4.35\n",
      "8     pb      Frank  Pabodie    751     pb  temp   -18.50\n",
      "9   lake   Anderson     Lake    734   lake   sal     0.05\n",
      "10  lake   Anderson     Lake    751   lake   sal     0.10\n",
      "11  lake   Anderson     Lake    752   lake   rad     2.19\n",
      "12  lake   Anderson     Lake    752   lake   sal     0.09\n",
      "13  lake   Anderson     Lake    752   lake  temp   -16.00\n",
      "14  lake   Anderson     Lake    837   lake   rad     1.46\n",
      "15  lake   Anderson     Lake    837   lake   sal     0.21\n",
      "16   roe  Valentina  Roerich    752    roe   sal    41.60\n",
      "17   roe  Valentina  Roerich    837    roe   sal    22.50\n",
      "18   roe  Valentina  Roerich    844    roe   rad    11.25\n",
      "       ident   personal    family  taken person quant  reading\n",
      "0       dyer    William      Dyer  619.0   dyer   rad     9.82\n",
      "1       dyer    William      Dyer  619.0   dyer   sal     0.13\n",
      "2       dyer    William      Dyer  622.0   dyer   rad     7.80\n",
      "3       dyer    William      Dyer  622.0   dyer   sal     0.09\n",
      "4         pb      Frank   Pabodie  734.0     pb   rad     8.41\n",
      "5         pb      Frank   Pabodie  734.0     pb  temp   -21.50\n",
      "6         pb      Frank   Pabodie  735.0     pb   rad     7.22\n",
      "7         pb      Frank   Pabodie  751.0     pb   rad     4.35\n",
      "8         pb      Frank   Pabodie  751.0     pb  temp   -18.50\n",
      "9       lake   Anderson      Lake  734.0   lake   sal     0.05\n",
      "10      lake   Anderson      Lake  751.0   lake   sal     0.10\n",
      "11      lake   Anderson      Lake  752.0   lake   rad     2.19\n",
      "12      lake   Anderson      Lake  752.0   lake   sal     0.09\n",
      "13      lake   Anderson      Lake  752.0   lake  temp   -16.00\n",
      "14      lake   Anderson      Lake  837.0   lake   rad     1.46\n",
      "15      lake   Anderson      Lake  837.0   lake   sal     0.21\n",
      "16       roe  Valentina   Roerich  752.0    roe   sal    41.60\n",
      "17       roe  Valentina   Roerich  837.0    roe   sal    22.50\n",
      "18       roe  Valentina   Roerich  844.0    roe   rad    11.25\n",
      "19  danforth      Frank  Danforth    NaN    NaN   NaN      NaN\n",
      "20       NaN        NaN       NaN  735.0    NaN   sal     0.06\n",
      "21       NaN        NaN       NaN  735.0    NaN  temp   -26.00\n"
     ]
    }
   ],
   "source": [
    "# (2) merge()\n",
    "merge_data = site.merge(visited, left_on='name', right_on='site')\n",
    "print(merge_data)\n",
    "# [결과확인] 같은 데이타인 site의 name와 visited의 site 동일 값끼리 연결\n",
    "\n",
    "# 다른 데이타프레임에서 merge 한다면 동일 데이타 값을 찾기\n",
    "# person의 ident와 survey의 person\n",
    "# visited의 ident와 survey의 taken\n",
    "merge_data = person.merge(survey, left_on='ident', right_on='person')\n",
    "print(merge_data)\n",
    "# visited.merge(survey, left_on='ident', right_on='taken')\n",
    "\n",
    "\"\"\" inner 조인과 outer 조인 \"\"\"\n",
    "# merge_data = person.merge(survey, how='outer', left_on='ident', right_on='person')\n",
    "# print(merge_data)"
   ]
  },
  {
   "cell_type": "code",
   "execution_count": null,
   "metadata": {},
   "outputs": [],
   "source": []
  },
  {
   "cell_type": "code",
   "execution_count": null,
   "metadata": {},
   "outputs": [],
   "source": []
  }
 ],
 "metadata": {
  "kernelspec": {
   "display_name": "Python 3",
   "language": "python",
   "name": "python3"
  },
  "language_info": {
   "codemirror_mode": {
    "name": "ipython",
    "version": 3
   },
   "file_extension": ".py",
   "mimetype": "text/x-python",
   "name": "python",
   "nbconvert_exporter": "python",
   "pygments_lexer": "ipython3",
   "version": "3.7.1"
  }
 },
 "nbformat": 4,
 "nbformat_minor": 2
}
