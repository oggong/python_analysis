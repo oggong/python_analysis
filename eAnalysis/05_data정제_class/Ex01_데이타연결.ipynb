{
 "cells": [
  {
   "cell_type": "markdown",
   "metadata": {},
   "source": [
    "## 데이타 연결하기\n",
    "\n",
    "#### (1) concat 메소드 연결\n",
    "\n",
    "#### (2) merge()\n",
    "\n",
    "\n",
    "\n",
    "------------------------------------\n",
    "[참고] 데이타사이언스 스쿨\n",
    "\n",
    "https://datascienceschool.net/view-notebook/7002e92653434bc88c8c026c3449d27b/"
   ]
  },
  {
   "cell_type": "code",
   "execution_count": 1,
   "metadata": {},
   "outputs": [],
   "source": [
    "import pandas as pd\n",
    "\n",
    "# 1. 데이타 가져오기\n",
    "person = pd.read_csv('./data/survey_person.csv')\n",
    "\n",
    "site = pd.read_csv('./data/survey_site.csv')\n",
    "\n",
    "survey = pd.read_csv('./data/survey_survey.csv')\n",
    "\n",
    "visited = pd.read_csv('./data/survey_visited.csv')\n"
   ]
  },
  {
   "cell_type": "code",
   "execution_count": null,
   "metadata": {},
   "outputs": [],
   "source": []
  },
  {
   "cell_type": "code",
   "execution_count": 2,
   "metadata": {},
   "outputs": [],
   "source": [
    "# 2. 데이타 연결하기\n",
    "# (1) concat 메소드 연결\n",
    "\n"
   ]
  },
  {
   "cell_type": "code",
   "execution_count": 3,
   "metadata": {},
   "outputs": [],
   "source": [
    "# (2) merge()\n"
   ]
  },
  {
   "cell_type": "code",
   "execution_count": null,
   "metadata": {},
   "outputs": [],
   "source": []
  },
  {
   "cell_type": "code",
   "execution_count": null,
   "metadata": {},
   "outputs": [],
   "source": []
  }
 ],
 "metadata": {
  "kernelspec": {
   "display_name": "Python 3",
   "language": "python",
   "name": "python3"
  },
  "language_info": {
   "codemirror_mode": {
    "name": "ipython",
    "version": 3
   },
   "file_extension": ".py",
   "mimetype": "text/x-python",
   "name": "python",
   "nbconvert_exporter": "python",
   "pygments_lexer": "ipython3",
   "version": "3.7.3"
  }
 },
 "nbformat": 4,
 "nbformat_minor": 2
}
