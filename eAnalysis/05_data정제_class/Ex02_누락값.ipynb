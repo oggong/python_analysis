{
 "cells": [
  {
   "cell_type": "markdown",
   "metadata": {},
   "source": [
    "## 누락값 : NaN\n",
    "\n",
    "\n",
    "### * 누락값이 생기는 이유\n",
    "    1- 데이타 자체적으로 존재\n",
    "    2- 데이타 연결하면서\n",
    "    3- 데이타 입력시\n",
    "    4- 데이타 추출하여 연산할 때\n",
    "    \n",
    "\n",
    "### * 누락값 확인하기\n",
    "    1- 누락값 인지 확인\n",
    "        + df.isnull()\n",
    "        + df.notnull()\n",
    "    \n",
    "    2- 누락값이 아닌 값의 개수 확인\n",
    "        + df.sharp[0] - df.count()\n",
    "        \n",
    "    3- 누락값 수 확인 \n",
    "        +  numpy 라이브러리의 count_nonzero() 이용\n",
    "\n",
    "\n",
    "    \n",
    "\n",
    "### * 누락값 처리하기\n",
    "     (1) 누락값 삭제하기 : dropna()\n",
    "     (2) 누락값을 다른 값으로 대치하기 : fillna()"
   ]
  },
  {
   "cell_type": "code",
   "execution_count": 1,
   "metadata": {
    "scrolled": true
   },
   "outputs": [],
   "source": [
    "# 누락값 개념\n",
    "\n"
   ]
  },
  {
   "cell_type": "code",
   "execution_count": 2,
   "metadata": {},
   "outputs": [],
   "source": [
    "# 누락값 비교 방법 : pandas 메소드 이용\n",
    "import pandas as pd\n",
    "\n"
   ]
  },
  {
   "cell_type": "code",
   "execution_count": 3,
   "metadata": {},
   "outputs": [],
   "source": [
    "\"\"\" 누락값이 생기는 이유\n",
    "    1- 데이타 자체적으로 존재\n",
    "    2- 데이타 연결하면서\n",
    "    3- 데이타 입력시\n",
    "    4- 데이타 추출하여 연산할 때\n",
    "\"\"\"\n",
    "\n",
    "import pandas as pd\n",
    "\n",
    "survey = pd.read_csv('./data/survey_survey.csv')\n",
    "# survey\n",
    "visited = pd.read_csv('./data/survey_visited.csv')\n",
    "# visited\n",
    "\n"
   ]
  },
  {
   "cell_type": "markdown",
   "metadata": {},
   "source": [
    "### Countires.tsv 파일에서\n",
    "\n",
    "1. 년도별 각 나라의 생활비의 평균을 구한다\n",
    "\n",
    "2. 1번의 데이타 셋에서 2000년도에서 2010년 동안의 데이타 셋을 추출\n",
    "\n",
    "3. 값이 있는 데이타만 출력한다면"
   ]
  },
  {
   "cell_type": "code",
   "execution_count": 5,
   "metadata": {},
   "outputs": [
    {
     "name": "stderr",
     "output_type": "stream",
     "text": [
      "C:\\ProgramData\\Anaconda3\\lib\\site-packages\\pandas\\core\\indexing.py:1494: FutureWarning: \n",
      "Passing list-likes to .loc or [] with any missing label will raise\n",
      "KeyError in the future, you can use .reindex() as an alternative.\n",
      "\n",
      "See the documentation here:\n",
      "https://pandas.pydata.org/pandas-docs/stable/indexing.html#deprecate-loc-reindex-listlike\n",
      "  return self._getitem_tuple(key)\n"
     ]
    },
    {
     "data": {
      "text/plain": [
       "year\n",
       "2002    65.694923\n",
       "2007    67.007423\n",
       "Name: lifeExp, dtype: float64"
      ]
     },
     "execution_count": 5,
     "metadata": {},
     "output_type": "execute_result"
    }
   ],
   "source": [
    "countries = pd.read_csv('./data/countries.tsv', sep='\\t')\n",
    "\n",
    "\n",
    "# (1) 년도별 각 나라의 생활비의 평균을 구한다\n",
    "expByYear = countries.groupby('year')['lifeExp'].mean()\n",
    "\n",
    "# (2) 2000~2010 동안의 데이타를 추출하고자 한다면\n",
    "expByYear.loc[range(2000,2010),] ## Null 값 발생 \n",
    "\n",
    "# (3) 범위 지정으로 인해 NaN값이 생긴 경우 해결책 -> 해당 데이타만 추출하고자\n",
    "expByYear[(expByYear.index>=2000) & (expByYear.index<=2010)] \n",
    "\n"
   ]
  },
  {
   "cell_type": "markdown",
   "metadata": {},
   "source": [
    "## 누락값 처리하기\n",
    "\n",
    "\n",
    "(0) 누락값 확인\n",
    "\n",
    "(1) 누락값 삭제\n",
    "\n",
    "(2) 누락값 대치"
   ]
  },
  {
   "cell_type": "code",
   "execution_count": 5,
   "metadata": {},
   "outputs": [],
   "source": [
    "\"\"\" 누락값 확인 \"\"\"\n",
    "ebola = pd.read_csv('./data/ebola_timeseries.csv')\n",
    "# 제일 먼저 데이타 확인\n",
    "\n",
    "# 누락값이 아닌 값의 개수 확인\n",
    "\n",
    "\n",
    "# 누락값의 수 구하기\n",
    "\n",
    "\n",
    "# 전체적인 누락값의 수를 얻으려면 - numpy 라이브러리의 count_nonzero() 이용\n"
   ]
  },
  {
   "cell_type": "code",
   "execution_count": 6,
   "metadata": {},
   "outputs": [
    {
     "data": {
      "text/plain": [
       "' (1) 누락값 삭제하기 '"
      ]
     },
     "execution_count": 6,
     "metadata": {},
     "output_type": "execute_result"
    }
   ],
   "source": [
    "\"\"\" (1) 누락값 삭제하기 \"\"\"\n"
   ]
  },
  {
   "cell_type": "code",
   "execution_count": 7,
   "metadata": {},
   "outputs": [
    {
     "data": {
      "text/plain": [
       "' (2) 누락값 대치하기 '"
      ]
     },
     "execution_count": 7,
     "metadata": {},
     "output_type": "execute_result"
    }
   ],
   "source": [
    "\"\"\" (2) 누락값 대치하기 \"\"\"\n",
    "\n"
   ]
  },
  {
   "cell_type": "markdown",
   "metadata": {},
   "source": [
    "그럼 누락값 처리로 Data Cleaning 후 데이터 처리(Data Process)를 진행한다면?"
   ]
  }
 ],
 "metadata": {
  "kernelspec": {
   "display_name": "Python 3",
   "language": "python",
   "name": "python3"
  },
  "language_info": {
   "codemirror_mode": {
    "name": "ipython",
    "version": 3
   },
   "file_extension": ".py",
   "mimetype": "text/x-python",
   "name": "python",
   "nbconvert_exporter": "python",
   "pygments_lexer": "ipython3",
   "version": "3.7.3"
  }
 },
 "nbformat": 4,
 "nbformat_minor": 2
}
