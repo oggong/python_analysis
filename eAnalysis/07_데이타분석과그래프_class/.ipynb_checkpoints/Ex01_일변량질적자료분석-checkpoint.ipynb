{
 "cells": [
  {
   "cell_type": "markdown",
   "metadata": {},
   "source": [
    "# 일변량질적자료\n",
    "\n",
    "> 1. 일변량 - 변수 하나\n",
    "\n",
    "> 2. 질적자료 - 명목형(카테고리) / 이산형\n",
    "        (ex. 남자/여자, 고급/중급/초급 )\n",
    "\n",
    "\n",
    "    * 질적자료 = 명목형 = 이산형\n",
    "    * 양적자료 = 수치형 = 연속형\n",
    "\n",
    "### 빈도와 그래프\n",
    "\n",
    "- 빈도 : 자료가 가지는 각각의 값이 몇 개 있는지를 구한 수치\n",
    "\n",
    "- 백분율 : 자료가 가지는 각각의 값이 전체를 100으로 보았을 때의 차지하고 얼마나 차지하고 있는지를 알려주는 수치\n",
    "\n",
    "### 질적자료 시각화 \n",
    "\n",
    "1. 추후 기입\n",
    "\n",
    "2.\n",
    "\n"
   ]
  },
  {
   "cell_type": "code",
   "execution_count": 8,
   "metadata": {},
   "outputs": [
    {
     "data": {
      "text/html": [
       "<div>\n",
       "<style scoped>\n",
       "    .dataframe tbody tr th:only-of-type {\n",
       "        vertical-align: middle;\n",
       "    }\n",
       "\n",
       "    .dataframe tbody tr th {\n",
       "        vertical-align: top;\n",
       "    }\n",
       "\n",
       "    .dataframe thead th {\n",
       "        text-align: right;\n",
       "    }\n",
       "</style>\n",
       "<table border=\"1\" class=\"dataframe\">\n",
       "  <thead>\n",
       "    <tr style=\"text-align: right;\">\n",
       "      <th></th>\n",
       "      <th>carat</th>\n",
       "      <th>cut</th>\n",
       "      <th>color</th>\n",
       "      <th>clarity</th>\n",
       "      <th>depth</th>\n",
       "      <th>table</th>\n",
       "      <th>price</th>\n",
       "      <th>x</th>\n",
       "      <th>y</th>\n",
       "      <th>z</th>\n",
       "    </tr>\n",
       "  </thead>\n",
       "  <tbody>\n",
       "    <tr>\n",
       "      <th>1</th>\n",
       "      <td>0.23</td>\n",
       "      <td>Ideal</td>\n",
       "      <td>E</td>\n",
       "      <td>SI2</td>\n",
       "      <td>61.5</td>\n",
       "      <td>55.0</td>\n",
       "      <td>326</td>\n",
       "      <td>3.95</td>\n",
       "      <td>3.98</td>\n",
       "      <td>2.43</td>\n",
       "    </tr>\n",
       "    <tr>\n",
       "      <th>2</th>\n",
       "      <td>0.21</td>\n",
       "      <td>Premium</td>\n",
       "      <td>E</td>\n",
       "      <td>SI1</td>\n",
       "      <td>59.8</td>\n",
       "      <td>61.0</td>\n",
       "      <td>326</td>\n",
       "      <td>3.89</td>\n",
       "      <td>3.84</td>\n",
       "      <td>2.31</td>\n",
       "    </tr>\n",
       "    <tr>\n",
       "      <th>3</th>\n",
       "      <td>0.23</td>\n",
       "      <td>Good</td>\n",
       "      <td>E</td>\n",
       "      <td>VS1</td>\n",
       "      <td>56.9</td>\n",
       "      <td>65.0</td>\n",
       "      <td>327</td>\n",
       "      <td>4.05</td>\n",
       "      <td>4.07</td>\n",
       "      <td>2.31</td>\n",
       "    </tr>\n",
       "    <tr>\n",
       "      <th>4</th>\n",
       "      <td>0.29</td>\n",
       "      <td>Premium</td>\n",
       "      <td>I</td>\n",
       "      <td>VS2</td>\n",
       "      <td>62.4</td>\n",
       "      <td>58.0</td>\n",
       "      <td>334</td>\n",
       "      <td>4.20</td>\n",
       "      <td>4.23</td>\n",
       "      <td>2.63</td>\n",
       "    </tr>\n",
       "    <tr>\n",
       "      <th>5</th>\n",
       "      <td>0.31</td>\n",
       "      <td>Good</td>\n",
       "      <td>J</td>\n",
       "      <td>SI2</td>\n",
       "      <td>63.3</td>\n",
       "      <td>58.0</td>\n",
       "      <td>335</td>\n",
       "      <td>4.34</td>\n",
       "      <td>4.35</td>\n",
       "      <td>2.75</td>\n",
       "    </tr>\n",
       "  </tbody>\n",
       "</table>\n",
       "</div>"
      ],
      "text/plain": [
       "   carat      cut color clarity  depth  table  price     x     y     z\n",
       "1   0.23    Ideal     E     SI2   61.5   55.0    326  3.95  3.98  2.43\n",
       "2   0.21  Premium     E     SI1   59.8   61.0    326  3.89  3.84  2.31\n",
       "3   0.23     Good     E     VS1   56.9   65.0    327  4.05  4.07  2.31\n",
       "4   0.29  Premium     I     VS2   62.4   58.0    334  4.20  4.23  2.63\n",
       "5   0.31     Good     J     SI2   63.3   58.0    335  4.34  4.35  2.75"
      ]
     },
     "execution_count": 8,
     "metadata": {},
     "output_type": "execute_result"
    }
   ],
   "source": [
    "# 데이타 읽어오기\n",
    "\n",
    "import pandas as pd\n",
    "\n",
    "diamonds = pd.read_csv('data/diamonds.csv', index_col='Unnamed: 0')\n",
    "diamonds.head()\n",
    "\n"
   ]
  },
  {
   "cell_type": "code",
   "execution_count": 13,
   "metadata": {},
   "outputs": [
    {
     "data": {
      "text/plain": [
       "<bound method NDFrame.describe of        carat        cut color clarity  depth  table  price     x     y     z\n",
       "1       0.23      Ideal     E     SI2   61.5   55.0    326  3.95  3.98  2.43\n",
       "2       0.21    Premium     E     SI1   59.8   61.0    326  3.89  3.84  2.31\n",
       "3       0.23       Good     E     VS1   56.9   65.0    327  4.05  4.07  2.31\n",
       "4       0.29    Premium     I     VS2   62.4   58.0    334  4.20  4.23  2.63\n",
       "5       0.31       Good     J     SI2   63.3   58.0    335  4.34  4.35  2.75\n",
       "6       0.24  Very Good     J    VVS2   62.8   57.0    336  3.94  3.96  2.48\n",
       "7       0.24  Very Good     I    VVS1   62.3   57.0    336  3.95  3.98  2.47\n",
       "8       0.26  Very Good     H     SI1   61.9   55.0    337  4.07  4.11  2.53\n",
       "9       0.22       Fair     E     VS2   65.1   61.0    337  3.87  3.78  2.49\n",
       "10      0.23  Very Good     H     VS1   59.4   61.0    338  4.00  4.05  2.39\n",
       "11      0.30       Good     J     SI1   64.0   55.0    339  4.25  4.28  2.73\n",
       "12      0.23      Ideal     J     VS1   62.8   56.0    340  3.93  3.90  2.46\n",
       "13      0.22    Premium     F     SI1   60.4   61.0    342  3.88  3.84  2.33\n",
       "14      0.31      Ideal     J     SI2   62.2   54.0    344  4.35  4.37  2.71\n",
       "15      0.20    Premium     E     SI2   60.2   62.0    345  3.79  3.75  2.27\n",
       "16      0.32    Premium     E      I1   60.9   58.0    345  4.38  4.42  2.68\n",
       "17      0.30      Ideal     I     SI2   62.0   54.0    348  4.31  4.34  2.68\n",
       "18      0.30       Good     J     SI1   63.4   54.0    351  4.23  4.29  2.70\n",
       "19      0.30       Good     J     SI1   63.8   56.0    351  4.23  4.26  2.71\n",
       "20      0.30  Very Good     J     SI1   62.7   59.0    351  4.21  4.27  2.66\n",
       "21      0.30       Good     I     SI2   63.3   56.0    351  4.26  4.30  2.71\n",
       "22      0.23  Very Good     E     VS2   63.8   55.0    352  3.85  3.92  2.48\n",
       "23      0.23  Very Good     H     VS1   61.0   57.0    353  3.94  3.96  2.41\n",
       "24      0.31  Very Good     J     SI1   59.4   62.0    353  4.39  4.43  2.62\n",
       "25      0.31  Very Good     J     SI1   58.1   62.0    353  4.44  4.47  2.59\n",
       "26      0.23  Very Good     G    VVS2   60.4   58.0    354  3.97  4.01  2.41\n",
       "27      0.24    Premium     I     VS1   62.5   57.0    355  3.97  3.94  2.47\n",
       "28      0.30  Very Good     J     VS2   62.2   57.0    357  4.28  4.30  2.67\n",
       "29      0.23  Very Good     D     VS2   60.5   61.0    357  3.96  3.97  2.40\n",
       "30      0.23  Very Good     F     VS1   60.9   57.0    357  3.96  3.99  2.42\n",
       "...      ...        ...   ...     ...    ...    ...    ...   ...   ...   ...\n",
       "53911   0.70    Premium     E     SI1   60.5   58.0   2753  5.74  5.77  3.48\n",
       "53912   0.57    Premium     E      IF   59.8   60.0   2753  5.43  5.38  3.23\n",
       "53913   0.61    Premium     F    VVS1   61.8   59.0   2753  5.48  5.40  3.36\n",
       "53914   0.80       Good     G     VS2   64.2   58.0   2753  5.84  5.81  3.74\n",
       "53915   0.84       Good     I     VS1   63.7   59.0   2753  5.94  5.90  3.77\n",
       "53916   0.77      Ideal     E     SI2   62.1   56.0   2753  5.84  5.86  3.63\n",
       "53917   0.74       Good     D     SI1   63.1   59.0   2753  5.71  5.74  3.61\n",
       "53918   0.90  Very Good     J     SI1   63.2   60.0   2753  6.12  6.09  3.86\n",
       "53919   0.76    Premium     I     VS1   59.3   62.0   2753  5.93  5.85  3.49\n",
       "53920   0.76      Ideal     I    VVS1   62.2   55.0   2753  5.89  5.87  3.66\n",
       "53921   0.70  Very Good     E     VS2   62.4   60.0   2755  5.57  5.61  3.49\n",
       "53922   0.70  Very Good     E     VS2   62.8   60.0   2755  5.59  5.65  3.53\n",
       "53923   0.70  Very Good     D     VS1   63.1   59.0   2755  5.67  5.58  3.55\n",
       "53924   0.73      Ideal     I     VS2   61.3   56.0   2756  5.80  5.84  3.57\n",
       "53925   0.73      Ideal     I     VS2   61.6   55.0   2756  5.82  5.84  3.59\n",
       "53926   0.79      Ideal     I     SI1   61.6   56.0   2756  5.95  5.97  3.67\n",
       "53927   0.71      Ideal     E     SI1   61.9   56.0   2756  5.71  5.73  3.54\n",
       "53928   0.79       Good     F     SI1   58.1   59.0   2756  6.06  6.13  3.54\n",
       "53929   0.79    Premium     E     SI2   61.4   58.0   2756  6.03  5.96  3.68\n",
       "53930   0.71      Ideal     G     VS1   61.4   56.0   2756  5.76  5.73  3.53\n",
       "53931   0.71    Premium     E     SI1   60.5   55.0   2756  5.79  5.74  3.49\n",
       "53932   0.71    Premium     F     SI1   59.8   62.0   2756  5.74  5.73  3.43\n",
       "53933   0.70  Very Good     E     VS2   60.5   59.0   2757  5.71  5.76  3.47\n",
       "53934   0.70  Very Good     E     VS2   61.2   59.0   2757  5.69  5.72  3.49\n",
       "53935   0.72    Premium     D     SI1   62.7   59.0   2757  5.69  5.73  3.58\n",
       "53936   0.72      Ideal     D     SI1   60.8   57.0   2757  5.75  5.76  3.50\n",
       "53937   0.72       Good     D     SI1   63.1   55.0   2757  5.69  5.75  3.61\n",
       "53938   0.70  Very Good     D     SI1   62.8   60.0   2757  5.66  5.68  3.56\n",
       "53939   0.86    Premium     H     SI2   61.0   58.0   2757  6.15  6.12  3.74\n",
       "53940   0.75      Ideal     D     SI2   62.2   55.0   2757  5.83  5.87  3.64\n",
       "\n",
       "[53940 rows x 10 columns]>"
      ]
     },
     "execution_count": 13,
     "metadata": {},
     "output_type": "execute_result"
    }
   ],
   "source": [
    "# 데이타프레임 구조 살피기\n",
    "\n",
    "# diamonds.shape #(53940,10)\n",
    "# diamonds.info \n",
    "# diamonds.columns #Index(['carat', 'cut', 'color', 'clarity', 'depth', 'table', 'price', 'x', 'y','z'], dtype='object')\n",
    "# diamonds.describe\n",
    "\n",
    "# [*] 질적자료와 양적자료 확인 \n",
    "# 질적자료 : cut/color/clarity\n",
    "#양적자료 : carat / depth / table / price / x / y / z"
   ]
  },
  {
   "cell_type": "code",
   "execution_count": 18,
   "metadata": {},
   "outputs": [
    {
     "data": {
      "text/plain": [
       "SI1     13065\n",
       "VS2     12258\n",
       "SI2      9194\n",
       "VS1      8171\n",
       "VVS2     5066\n",
       "VVS1     3655\n",
       "IF       1790\n",
       "I1        741\n",
       "Name: clarity, dtype: int64"
      ]
     },
     "execution_count": 18,
     "metadata": {},
     "output_type": "execute_result"
    }
   ],
   "source": [
    "\"\"\" 1. 빈도구하기 : value_counts() \"\"\"\n",
    "c_cut = diamonds['cut'].value_counts()\n",
    "c_cut\n",
    "\n",
    "c_color = diamonds['color'].value_counts()\n",
    "c_color\n",
    "\n",
    "c_clarity = diamonds['clarity'].value_counts()\n",
    "c_clarity\n"
   ]
  },
  {
   "cell_type": "code",
   "execution_count": 21,
   "metadata": {
    "scrolled": true
   },
   "outputs": [
    {
     "data": {
      "text/plain": [
       "Ideal        39.953652\n",
       "Premium      25.567297\n",
       "Very Good    22.398962\n",
       "Good          9.095291\n",
       "Fair          2.984798\n",
       "Name: cut, dtype: float64"
      ]
     },
     "execution_count": 21,
     "metadata": {},
     "output_type": "execute_result"
    }
   ],
   "source": [
    "\"\"\" 2. 백분율  = 빈도수/전체수 * 100 \"\"\"\n",
    "percentage = c_cut / len(diamonds['cut']) * 100\n",
    "percentage"
   ]
  },
  {
   "cell_type": "code",
   "execution_count": 24,
   "metadata": {},
   "outputs": [],
   "source": [
    "\"\"\" 3. 시각화 \"\"\"\n",
    "%matplotlib inline\n",
    "import pandas as pd\n",
    "import matplotlib as mpl     #matplotlib을 이용해 그래프를 그릴 수 있는 pyplot (인터페이스 역할)\n",
    "import matplotlib.pyplot as plt\n",
    "import seaborn as sns\n",
    "\n",
    "\n",
    "# 한글 처리\n",
    "from matplotlib import rc\n",
    "rc('font', family='Malgun Gothic')\n",
    "rc('axes', unicode_minus=False)\n"
   ]
  },
  {
   "cell_type": "code",
   "execution_count": 25,
   "metadata": {},
   "outputs": [
    {
     "ename": "NameError",
     "evalue": "name 'data' is not defined",
     "output_type": "error",
     "traceback": [
      "\u001b[1;31m---------------------------------------------------------------------------\u001b[0m",
      "\u001b[1;31mNameError\u001b[0m                                 Traceback (most recent call last)",
      "\u001b[1;32m<ipython-input-25-0305a2d0d197>\u001b[0m in \u001b[0;36m<module>\u001b[1;34m\u001b[0m\n\u001b[0;32m      1\u001b[0m \u001b[0mplt\u001b[0m\u001b[1;33m.\u001b[0m\u001b[0mfigure\u001b[0m\u001b[1;33m(\u001b[0m\u001b[0mfigsize\u001b[0m\u001b[1;33m=\u001b[0m\u001b[1;33m[\u001b[0m\u001b[1;36m7\u001b[0m\u001b[1;33m,\u001b[0m\u001b[1;36m4\u001b[0m\u001b[1;33m]\u001b[0m\u001b[1;33m)\u001b[0m\u001b[1;33m\u001b[0m\u001b[1;33m\u001b[0m\u001b[0m\n\u001b[0;32m      2\u001b[0m \u001b[1;33m\u001b[0m\u001b[0m\n\u001b[1;32m----> 3\u001b[1;33m \u001b[0msns\u001b[0m\u001b[1;33m.\u001b[0m\u001b[0mcountplot\u001b[0m\u001b[1;33m(\u001b[0m\u001b[0mx\u001b[0m\u001b[1;33m=\u001b[0m\u001b[1;34m'cut'\u001b[0m\u001b[1;33m,\u001b[0m \u001b[0mdata\u001b[0m\u001b[1;33m=\u001b[0m\u001b[0mdata\u001b[0m\u001b[1;33m)\u001b[0m\u001b[1;33m\u001b[0m\u001b[1;33m\u001b[0m\u001b[0m\n\u001b[0m",
      "\u001b[1;31mNameError\u001b[0m: name 'data' is not defined"
     ]
    },
    {
     "data": {
      "text/plain": [
       "<Figure size 504x288 with 0 Axes>"
      ]
     },
     "metadata": {},
     "output_type": "display_data"
    }
   ],
   "source": [
    "plt.figure(figsize=[7,4])\n",
    "\n",
    "sns.countplot(x='cut', data=data)"
   ]
  }
 ],
 "metadata": {
  "kernelspec": {
   "display_name": "Python 3",
   "language": "python",
   "name": "python3"
  },
  "language_info": {
   "codemirror_mode": {
    "name": "ipython",
    "version": 3
   },
   "file_extension": ".py",
   "mimetype": "text/x-python",
   "name": "python",
   "nbconvert_exporter": "python",
   "pygments_lexer": "ipython3",
   "version": "3.7.3"
  }
 },
 "nbformat": 4,
 "nbformat_minor": 2
}
