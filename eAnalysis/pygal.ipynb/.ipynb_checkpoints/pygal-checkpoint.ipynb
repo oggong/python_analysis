{
 "cells": [
  {
   "cell_type": "code",
   "execution_count": 8,
   "metadata": {},
   "outputs": [
    {
     "name": "stdout",
     "output_type": "stream",
     "text": [
      "Collecting mysql-connector-python\n",
      "\u001b[?25l  Downloading https://files.pythonhosted.org/packages/19/1a/81a07561217d94c2bf4cec58c5a53297f9a05993b014e0e76a9f56d2369b/mysql_connector_python-8.0.17-cp36-cp36m-macosx_10_13_x86_64.whl (4.2MB)\n",
      "\u001b[K     |████████████████████████████████| 4.2MB 3.4MB/s eta 0:00:01\n",
      "\u001b[?25hCollecting protobuf>=3.0.0 (from mysql-connector-python)\n",
      "\u001b[?25l  Downloading https://files.pythonhosted.org/packages/b5/24/d910231174d60c16b3b45db520d21581464049b28ba3562ecd5705c5d5c0/protobuf-3.9.1-cp36-cp36m-macosx_10_9_intel.whl (1.4MB)\n",
      "\u001b[K     |████████████████████████████████| 1.4MB 42.8MB/s eta 0:00:01\n",
      "\u001b[?25hRequirement already satisfied: six>=1.9 in /Users/eunguhan/anaconda3/lib/python3.6/site-packages (from protobuf>=3.0.0->mysql-connector-python) (1.11.0)\n",
      "Requirement already satisfied: setuptools in /Users/eunguhan/anaconda3/lib/python3.6/site-packages (from protobuf>=3.0.0->mysql-connector-python) (39.1.0)\n",
      "Installing collected packages: protobuf, mysql-connector-python\n",
      "Successfully installed mysql-connector-python-8.0.17 protobuf-3.9.1\n"
     ]
    }
   ],
   "source": [
    "!pip install mysql-connector-python"
   ]
  },
  {
   "cell_type": "code",
   "execution_count": 1,
   "metadata": {},
   "outputs": [],
   "source": [
    "import mysql.connector"
   ]
  },
  {
   "cell_type": "code",
   "execution_count": 74,
   "metadata": {},
   "outputs": [],
   "source": [
    "# db 연결 - mysql connector\n",
    "\n",
    "def payment_select():\n",
    "    # db 연결\n",
    "    conn = mysql.connector.connect(host='192.168.0.170', user='scott', passwd='tiger', db='pythondb')\n",
    "    cur = conn.cursor()\n",
    "\n",
    "    sql = \"SELECT * FROM payment\"\n",
    "    cur.execute(sql)\n",
    "    \n",
    "    data = []\n",
    "    rows = cur.fetchall()\n",
    "    for row in rows:\n",
    "        print(row[0], row[1], row[2], row[3])\n",
    "        data.append([row[0], str(row[1]), row[2], row[3]])\n",
    "    return data\n",
    "\n",
    "    conn.commit()\n",
    "    conn.close()"
   ]
  },
  {
   "cell_type": "code",
   "execution_count": 75,
   "metadata": {},
   "outputs": [
    {
     "name": "stdout",
     "output_type": "stream",
     "text": [
      "2 111 10000 card\n",
      "3 222 20000 card\n",
      "4 333 25000 coin\n"
     ]
    },
    {
     "data": {
      "text/plain": [
       "[[2, '111', 10000, 'card'],\n",
       " [3, '222', 20000, 'card'],\n",
       " [4, '333', 25000, 'coin']]"
      ]
     },
     "execution_count": 75,
     "metadata": {},
     "output_type": "execute_result"
    }
   ],
   "source": [
    "payment_select()"
   ]
  },
  {
   "cell_type": "code",
   "execution_count": 63,
   "metadata": {},
   "outputs": [],
   "source": [
    "import pygal"
   ]
  },
  {
   "cell_type": "code",
   "execution_count": 92,
   "metadata": {},
   "outputs": [
    {
     "name": "stdout",
     "output_type": "stream",
     "text": [
      "2 111 10000 card\n",
      "3 222 20000 card\n",
      "4 333 25000 coin\n",
      "111 10000\n",
      "222 20000\n",
      "333 25000\n",
      "file:///var/folders/c2/hsk5ql755kz3m_t2_0nrb3b00000gn/T/tmpzb81j6jx.html\n"
     ]
    }
   ],
   "source": [
    "# 오더 별 금액 - 바 차트\n",
    "\n",
    "payment_chart = pygal.Bar(height=300, print_labels=True, print_values=True, pretty_print=True)\n",
    "\n",
    "data = payment_select()\n",
    "payment_chart.title = \"payment by order_no\"\n",
    "\n",
    "for i in data:\n",
    "    payment_chart.add(i[1], [{'value': i[2], 'label': 'order_no: %s' % i[1]}])\n",
    "    print(i[1], i[2])\n",
    "payment_chart.render_in_browser()"
   ]
  },
  {
   "cell_type": "code",
   "execution_count": 91,
   "metadata": {},
   "outputs": [
    {
     "name": "stdout",
     "output_type": "stream",
     "text": [
      "file:///var/folders/c2/hsk5ql755kz3m_t2_0nrb3b00000gn/T/tmpgconakpp.html\n"
     ]
    }
   ],
   "source": [
    "# 지불 방식 별 - 하프 도넛 차트\n",
    "\n",
    "payment_donut = pygal.Pie(inner_radius = .3, print_values=True, print_labels=True, half_pie=True)\n",
    "\n",
    "payment_donut.title = 'payment method ratio'\n",
    "\n",
    "card = 0\n",
    "coin = 0\n",
    "for i in data:\n",
    "    if i[3] == 'card':\n",
    "        card += i[2]\n",
    "    elif i[3] == 'coin':\n",
    "        coin += i[2]\n",
    "\n",
    "payment_donut.add('card', [{'value': card, 'label': 'card'}])\n",
    "payment_donut.add('coin', [{'value': coin, 'label': 'coin'}])\n",
    "    \n",
    "payment_donut.render_in_browser()"
   ]
  },
  {
   "cell_type": "code",
   "execution_count": null,
   "metadata": {},
   "outputs": [],
   "source": []
  }
 ],
 "metadata": {
  "kernelspec": {
   "display_name": "Python 3",
   "language": "python",
   "name": "python3"
  },
  "language_info": {
   "codemirror_mode": {
    "name": "ipython",
    "version": 3
   },
   "file_extension": ".py",
   "mimetype": "text/x-python",
   "name": "python",
   "nbconvert_exporter": "python",
   "pygments_lexer": "ipython3",
   "version": "3.7.3"
  }
 },
 "nbformat": 4,
 "nbformat_minor": 2
}
